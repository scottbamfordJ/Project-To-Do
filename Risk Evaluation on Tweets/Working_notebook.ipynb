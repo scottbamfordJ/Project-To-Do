{
 "cells": [
  {
   "cell_type": "code",
   "execution_count": 111,
   "metadata": {},
   "outputs": [
    {
     "data": {
      "text/html": [
       "<div>\n",
       "<style scoped>\n",
       "    .dataframe tbody tr th:only-of-type {\n",
       "        vertical-align: middle;\n",
       "    }\n",
       "\n",
       "    .dataframe tbody tr th {\n",
       "        vertical-align: top;\n",
       "    }\n",
       "\n",
       "    .dataframe thead th {\n",
       "        text-align: right;\n",
       "    }\n",
       "</style>\n",
       "<table border=\"1\" class=\"dataframe\">\n",
       "  <thead>\n",
       "    <tr style=\"text-align: right;\">\n",
       "      <th></th>\n",
       "      <th>Tweets</th>\n",
       "      <th>Risk Analysis</th>\n",
       "      <th>Number of Words</th>\n",
       "      <th>Reduced Number of Words</th>\n",
       "      <th>Reduced Tweet</th>\n",
       "      <th>Number of Characters</th>\n",
       "      <th>Hash Tags</th>\n",
       "      <th>Number of Hash Tags</th>\n",
       "    </tr>\n",
       "  </thead>\n",
       "  <tbody>\n",
       "    <tr>\n",
       "      <th>0</th>\n",
       "      <td>interested in a job in epping nh this could be...</td>\n",
       "      <td>0.0</td>\n",
       "      <td>28</td>\n",
       "      <td>26</td>\n",
       "      <td>interested in job in epping nh this could be g...</td>\n",
       "      <td>148</td>\n",
       "      <td>[#cvspharmtech, #pharmtech]</td>\n",
       "      <td>2</td>\n",
       "    </tr>\n",
       "    <tr>\n",
       "      <th>1</th>\n",
       "      <td>community violence cv is a public health epide...</td>\n",
       "      <td>1.0</td>\n",
       "      <td>38</td>\n",
       "      <td>37</td>\n",
       "      <td>community violence cv is public health epidemi...</td>\n",
       "      <td>247</td>\n",
       "      <td>[]</td>\n",
       "      <td>0</td>\n",
       "    </tr>\n",
       "    <tr>\n",
       "      <th>2</th>\n",
       "      <td>cvs took a step that shows it s gearing up to ...</td>\n",
       "      <td>0.0</td>\n",
       "      <td>21</td>\n",
       "      <td>18</td>\n",
       "      <td>cvs took step that shows it gearing up to have...</td>\n",
       "      <td>92</td>\n",
       "      <td>[#metaverse]</td>\n",
       "      <td>1</td>\n",
       "    </tr>\n",
       "    <tr>\n",
       "      <th>3</th>\n",
       "      <td>this job is now open at cvs health in henderso...</td>\n",
       "      <td>0.0</td>\n",
       "      <td>34</td>\n",
       "      <td>34</td>\n",
       "      <td>this job is now open at cvs health in henderso...</td>\n",
       "      <td>187</td>\n",
       "      <td>[#cvspharmtech, #pharmtech]</td>\n",
       "      <td>2</td>\n",
       "    </tr>\n",
       "    <tr>\n",
       "      <th>4</th>\n",
       "      <td>at cvs health we are committed to empowering m...</td>\n",
       "      <td>0.0</td>\n",
       "      <td>26</td>\n",
       "      <td>25</td>\n",
       "      <td>at cvs health we are committed to empowering m...</td>\n",
       "      <td>144</td>\n",
       "      <td>[#memphis, #pharmtech]</td>\n",
       "      <td>2</td>\n",
       "    </tr>\n",
       "  </tbody>\n",
       "</table>\n",
       "</div>"
      ],
      "text/plain": [
       "                                              Tweets  Risk Analysis  \\\n",
       "0  interested in a job in epping nh this could be...            0.0   \n",
       "1  community violence cv is a public health epide...            1.0   \n",
       "2  cvs took a step that shows it s gearing up to ...            0.0   \n",
       "3  this job is now open at cvs health in henderso...            0.0   \n",
       "4  at cvs health we are committed to empowering m...            0.0   \n",
       "\n",
       "   Number of Words  Reduced Number of Words  \\\n",
       "0               28                       26   \n",
       "1               38                       37   \n",
       "2               21                       18   \n",
       "3               34                       34   \n",
       "4               26                       25   \n",
       "\n",
       "                                       Reduced Tweet  Number of Characters  \\\n",
       "0  interested in job in epping nh this could be g...                   148   \n",
       "1  community violence cv is public health epidemi...                   247   \n",
       "2  cvs took step that shows it gearing up to have...                    92   \n",
       "3  this job is now open at cvs health in henderso...                   187   \n",
       "4  at cvs health we are committed to empowering m...                   144   \n",
       "\n",
       "                     Hash Tags  Number of Hash Tags  \n",
       "0  [#cvspharmtech, #pharmtech]                    2  \n",
       "1                           []                    0  \n",
       "2                 [#metaverse]                    1  \n",
       "3  [#cvspharmtech, #pharmtech]                    2  \n",
       "4       [#memphis, #pharmtech]                    2  "
      ]
     },
     "execution_count": 111,
     "metadata": {},
     "output_type": "execute_result"
    }
   ],
   "source": [
    "from nltk.corpus import stopwords\n",
    "import nltk\n",
    "import pandas as pd\n",
    "import numpy as np \n",
    "import seaborn as sns \n",
    "import matplotlib.pyplot as plt\n",
    "import re\n",
    "%matplotlib inline\n",
    "\n",
    "\n",
    "def get_hashtags(sentence):\n",
    "    split_sentence = sentence.split(\" \")\n",
    "    output = []\n",
    "    for values in split_sentence:\n",
    "        if \"#\" in values:\n",
    "            output.append(values)\n",
    "    return output\n",
    "\n",
    "\n",
    "df = pd.read_csv(\"train_data.csv\")\n",
    "\n",
    "\n",
    "tweets = df['Tweets']\n",
    "count_of_words = []\n",
    "reduced_count_of_words = []\n",
    "updated_tweets = []\n",
    "\n",
    "for values in tweets:\n",
    "    list_of_words = values.split(\" \")\n",
    "\n",
    "            \n",
    "        \n",
    "    number_of_words = len(list_of_words)\n",
    "    \n",
    "    count_of_words.append(number_of_words)\n",
    "    reduced_word_count = number_of_words\n",
    "    new_list = []\n",
    "    for words in list_of_words: \n",
    "        if len(words) == 1:\n",
    "            reduced_word_count = reduced_word_count - 1\n",
    "        else:\n",
    "            new_list.append(words)\n",
    "    \n",
    "    reduced_count_of_words.append(reduced_word_count)\n",
    "    reduced_words = \" \".join(new_list)\n",
    "    updated_tweets.append(reduced_words)\n",
    "        \n",
    "df['Number of Words'] = count_of_words\n",
    "df['Reduced Number of Words'] = reduced_count_of_words\n",
    "df['Reduced Tweet'] = updated_tweets\n",
    "df['Number of Characters'] = df['Reduced Tweet'].apply(len)\n",
    "\n",
    "Reduced_Tweets = df['Reduced Tweet']\n",
    "reduced = [re.sub(\"0-0a-zA-Z\", \"\", tweets) for tweets in Reduced_Tweets]\n",
    "\n",
    "hashtage_list = []\n",
    "number_of_hashtags = []\n",
    "for values in reduced:\n",
    "    #print(values)\n",
    "    output = get_hashtags(values)\n",
    "    if len(output) <= 0:\n",
    "        no_after += 1 \n",
    "        number_of_hashtags.append(0)\n",
    "    else:\n",
    "        yes_after += 1\n",
    "        number_of_hashtags.append(len(output))\n",
    "    hashtage_list.append(output)\n",
    "\n",
    "\n",
    "df['Hash Tags'] = hashtage_list\n",
    "df['Number of Hash Tags'] = number_of_hashtags\n",
    "  \n",
    "    \n",
    "df.head(5)"
   ]
  },
  {
   "cell_type": "code",
   "execution_count": 3,
   "metadata": {},
   "outputs": [
    {
     "name": "stderr",
     "output_type": "stream",
     "text": [
      "C:\\Users\\scott\\AppData\\Local\\Temp\\ipykernel_22228\\823421275.py:1: UserWarning: \n",
      "\n",
      "`distplot` is a deprecated function and will be removed in seaborn v0.14.0.\n",
      "\n",
      "Please adapt your code to use either `displot` (a figure-level function with\n",
      "similar flexibility) or `histplot` (an axes-level function for histograms).\n",
      "\n",
      "For a guide to updating your code to use the new functions, please see\n",
      "https://gist.github.com/mwaskom/de44147ed2974457ad6372750bbe5751\n",
      "\n",
      "  sns.distplot(df[\"Number of Characters\"],  bins = 50)\n"
     ]
    },
    {
     "data": {
      "text/plain": [
       "<Axes: xlabel='Number of Characters', ylabel='Density'>"
      ]
     },
     "execution_count": 3,
     "metadata": {},
     "output_type": "execute_result"
    },
    {
     "data": {
      "image/png": "[encoded data removed]",
      "text/plain": [
       "<Figure size 640x480 with 1 Axes>"
      ]
     },
     "metadata": {},
     "output_type": "display_data"
    }
   ],
   "source": [
    "sns.distplot(df[\"Number of Characters\"],  bins = 50)"
   ]
  },
  {
   "cell_type": "code",
   "execution_count": 4,
   "metadata": {},
   "outputs": [
    {
     "data": {
      "text/html": [
       "<div>\n",
       "<style scoped>\n",
       "    .dataframe tbody tr th:only-of-type {\n",
       "        vertical-align: middle;\n",
       "    }\n",
       "\n",
       "    .dataframe tbody tr th {\n",
       "        vertical-align: top;\n",
       "    }\n",
       "\n",
       "    .dataframe thead th {\n",
       "        text-align: right;\n",
       "    }\n",
       "</style>\n",
       "<table border=\"1\" class=\"dataframe\">\n",
       "  <thead>\n",
       "    <tr style=\"text-align: right;\">\n",
       "      <th></th>\n",
       "      <th>Risk Analysis</th>\n",
       "      <th>Number of Words</th>\n",
       "      <th>Reduced Number of Words</th>\n",
       "      <th>Number of Characters</th>\n",
       "    </tr>\n",
       "  </thead>\n",
       "  <tbody>\n",
       "    <tr>\n",
       "      <th>count</th>\n",
       "      <td>20204.000000</td>\n",
       "      <td>20204.000000</td>\n",
       "      <td>20204.000000</td>\n",
       "      <td>20204.000000</td>\n",
       "    </tr>\n",
       "    <tr>\n",
       "      <th>mean</th>\n",
       "      <td>0.318105</td>\n",
       "      <td>27.298753</td>\n",
       "      <td>26.270194</td>\n",
       "      <td>156.270491</td>\n",
       "    </tr>\n",
       "    <tr>\n",
       "      <th>std</th>\n",
       "      <td>0.465752</td>\n",
       "      <td>12.000657</td>\n",
       "      <td>11.321358</td>\n",
       "      <td>67.403320</td>\n",
       "    </tr>\n",
       "    <tr>\n",
       "      <th>min</th>\n",
       "      <td>0.000000</td>\n",
       "      <td>2.000000</td>\n",
       "      <td>2.000000</td>\n",
       "      <td>11.000000</td>\n",
       "    </tr>\n",
       "    <tr>\n",
       "      <th>25%</th>\n",
       "      <td>0.000000</td>\n",
       "      <td>18.000000</td>\n",
       "      <td>17.000000</td>\n",
       "      <td>104.000000</td>\n",
       "    </tr>\n",
       "    <tr>\n",
       "      <th>50%</th>\n",
       "      <td>0.000000</td>\n",
       "      <td>27.000000</td>\n",
       "      <td>27.000000</td>\n",
       "      <td>156.000000</td>\n",
       "    </tr>\n",
       "    <tr>\n",
       "      <th>75%</th>\n",
       "      <td>1.000000</td>\n",
       "      <td>35.000000</td>\n",
       "      <td>33.000000</td>\n",
       "      <td>198.000000</td>\n",
       "    </tr>\n",
       "    <tr>\n",
       "      <th>max</th>\n",
       "      <td>1.000000</td>\n",
       "      <td>110.000000</td>\n",
       "      <td>105.000000</td>\n",
       "      <td>820.000000</td>\n",
       "    </tr>\n",
       "  </tbody>\n",
       "</table>\n",
       "</div>"
      ],
      "text/plain": [
       "       Risk Analysis  Number of Words  Reduced Number of Words  \\\n",
       "count   20204.000000     20204.000000             20204.000000   \n",
       "mean        0.318105        27.298753                26.270194   \n",
       "std         0.465752        12.000657                11.321358   \n",
       "min         0.000000         2.000000                 2.000000   \n",
       "25%         0.000000        18.000000                17.000000   \n",
       "50%         0.000000        27.000000                27.000000   \n",
       "75%         1.000000        35.000000                33.000000   \n",
       "max         1.000000       110.000000               105.000000   \n",
       "\n",
       "       Number of Characters  \n",
       "count          20204.000000  \n",
       "mean             156.270491  \n",
       "std               67.403320  \n",
       "min               11.000000  \n",
       "25%              104.000000  \n",
       "50%              156.000000  \n",
       "75%              198.000000  \n",
       "max              820.000000  "
      ]
     },
     "execution_count": 4,
     "metadata": {},
     "output_type": "execute_result"
    }
   ],
   "source": [
    "df.describe()"
   ]
  },
  {
   "cell_type": "code",
   "execution_count": 5,
   "metadata": {},
   "outputs": [
    {
     "name": "stdout",
     "output_type": "stream",
     "text": [
      "showing info https://raw.githubusercontent.com/nltk/nltk_data/gh-pages/index.xml\n"
     ]
    },
    {
     "data": {
      "text/plain": [
       "True"
      ]
     },
     "execution_count": 5,
     "metadata": {},
     "output_type": "execute_result"
    }
   ],
   "source": [
    "\n",
    "\n",
    "nltk.download()"
   ]
  },
  {
   "cell_type": "code",
   "execution_count": 6,
   "metadata": {},
   "outputs": [],
   "source": [
    "# Based Upon Risk Analysis + Tweets Bank Words or Compared Words of Overlap\n",
    "word_bank = []\n",
    "for index,rows in df.iterrows():\n",
    "    Tweets = rows['Reduced Tweet']\n",
    "    Risk = rows['Risk Analysis']\n",
    "    \n",
    "    if Risk == 1.0:\n",
    "        for values in Tweets.split(\" \"):\n",
    "            if values not in word_bank:\n",
    "                word_bank.append(values)\n",
    "    \n"
   ]
  },
  {
   "cell_type": "code",
   "execution_count": 7,
   "metadata": {},
   "outputs": [
    {
     "name": "stdout",
     "output_type": "stream",
     "text": [
      "Number of Orginal Words in Bank: 17345, \n",
      "Number of Words in Bank After Edit: 16057\n"
     ]
    }
   ],
   "source": [
    "new_word_bank = word_bank.copy()\n",
    "for values in word_bank:\n",
    "    if len(values) <= 3:\n",
    "        new_word_bank.remove(values)\n",
    "print(\"Number of Orginal Words in Bank: {}, \\nNumber of Words in Bank After Edit: {}\".format(len(word_bank), len(new_word_bank)))"
   ]
  },
  {
   "cell_type": "code",
   "execution_count": 11,
   "metadata": {},
   "outputs": [
    {
     "data": {
      "text/plain": [
       "179"
      ]
     },
     "execution_count": 11,
     "metadata": {},
     "output_type": "execute_result"
    }
   ],
   "source": [
    "from nltk.corpus import stopwords\n",
    "import string\n",
    "\n",
    "len(stopwords.words(\"english\"))"
   ]
  },
  {
   "cell_type": "code",
   "execution_count": 12,
   "metadata": {},
   "outputs": [
    {
     "data": {
      "text/plain": [
       "'!\"#$%&\\'()*+,-./:;<=>?@[\\\\]^_`{|}~'"
      ]
     },
     "execution_count": 12,
     "metadata": {},
     "output_type": "execute_result"
    }
   ],
   "source": [
    "for values in "
   ]
  },
  {
   "cell_type": "code",
   "execution_count": null,
   "metadata": {},
   "outputs": [],
   "source": []
  }
 ],
 "metadata": {
  "kernelspec": {
   "display_name": "Python 3",
   "language": "python",
   "name": "python3"
  },
  "language_info": {
   "codemirror_mode": {
    "name": "ipython",
    "version": 3
   },
   "file_extension": ".py",
   "mimetype": "text/x-python",
   "name": "python",
   "nbconvert_exporter": "python",
   "pygments_lexer": "ipython3",
   "version": "3.11.0"
  }
 },
 "nbformat": 4,
 "nbformat_minor": 2
}
