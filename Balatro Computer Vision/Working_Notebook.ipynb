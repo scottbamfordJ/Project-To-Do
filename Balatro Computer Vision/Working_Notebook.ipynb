{
 "cells": [
  {
   "cell_type": "code",
   "execution_count": 2,
   "id": "afa57a56",
   "metadata": {},
   "outputs": [],
   "source": [
    "import numpy as np\n",
    "import pandas as pd\n",
    "import PIL\n",
    "from PIL import Image, ImageDraw\n",
    "import os"
   ]
  },
  {
   "cell_type": "code",
   "execution_count": 12,
   "id": "662c0dca",
   "metadata": {},
   "outputs": [],
   "source": [
    "image = Image.new(\"RGBA\", (142, 190))\n",
    "draw = ImageDraw.Draw(image)\n",
    "# Draw a regular rectangle\n",
    "# Draw a rounded rectangle\n",
    "draw.rounded_rectangle(((0, 0), (142, 190)), 10, fill=\"White\")\n",
    "image.save(\"Blank_Card.png\")"
   ]
  },
  {
   "cell_type": "code",
   "execution_count": null,
   "id": "2ec77da0",
   "metadata": {},
   "outputs": [
    {
     "name": "stdout",
     "output_type": "stream",
     "text": [
      "c:\\Users\\scott\\Documents\\Project A Week\\Project-A-Week\\Balatro Computer Vision\\Card_Value\\Original_Value\\Ace.png\n",
      "c:\\Users\\scott\\Documents\\Project A Week\\Project-A-Week\\Balatro Computer Vision\\Card_Value\\Original_Value\\Eight.png\n",
      "c:\\Users\\scott\\Documents\\Project A Week\\Project-A-Week\\Balatro Computer Vision\\Card_Value\\Original_Value\\Five.png\n",
      "c:\\Users\\scott\\Documents\\Project A Week\\Project-A-Week\\Balatro Computer Vision\\Card_Value\\Original_Value\\Four.png\n",
      "c:\\Users\\scott\\Documents\\Project A Week\\Project-A-Week\\Balatro Computer Vision\\Card_Value\\Original_Value\\Jack.png\n",
      "c:\\Users\\scott\\Documents\\Project A Week\\Project-A-Week\\Balatro Computer Vision\\Card_Value\\Original_Value\\King.png\n",
      "c:\\Users\\scott\\Documents\\Project A Week\\Project-A-Week\\Balatro Computer Vision\\Card_Value\\Original_Value\\Nine.png\n",
      "c:\\Users\\scott\\Documents\\Project A Week\\Project-A-Week\\Balatro Computer Vision\\Card_Value\\Original_Value\\Queen.png\n",
      "c:\\Users\\scott\\Documents\\Project A Week\\Project-A-Week\\Balatro Computer Vision\\Card_Value\\Original_Value\\Seven.png\n",
      "c:\\Users\\scott\\Documents\\Project A Week\\Project-A-Week\\Balatro Computer Vision\\Card_Value\\Original_Value\\Six.png\n",
      "c:\\Users\\scott\\Documents\\Project A Week\\Project-A-Week\\Balatro Computer Vision\\Card_Value\\Original_Value\\Ten.png\n",
      "c:\\Users\\scott\\Documents\\Project A Week\\Project-A-Week\\Balatro Computer Vision\\Card_Value\\Original_Value\\Three.png\n",
      "c:\\Users\\scott\\Documents\\Project A Week\\Project-A-Week\\Balatro Computer Vision\\Card_Value\\Original_Value\\Two.png\n"
     ]
    }
   ],
   "source": [
    "def replace_color(path, orginal_color, white, black, tolorance):\n",
    "    new_path = \"Card_Value\\\\Re_Colored\\\\\" + path.split(\"\\\\\")[-1]\n",
    "    image = Image.open(path).convert(\"RGB\")\n",
    "    data = np.array(image)\n",
    "\n",
    "    match = np.all(np.abs(data-orginal_color) <= tolerance, axis =-1)\n",
    "    data[match] = black \n",
    "    data[~match] = white\n",
    "    image2 = Image.fromarray(data,mode = 'RGB')\n",
    "    image2.save(new_path)\n",
    "    return path\n",
    "    \n",
    "BASE_PATH = os.getcwd()\n",
    "Card_Path = BASE_PATH + \"\\\\Card_Value\\\\Original_Value\" \n",
    "\n",
    "orginal_color = np.array([32, 32, 32] , dtype=np.uint8)\n",
    "white = np.array([255, 255, 255] , dtype=np.uint8)\n",
    "black = np.array([1, 1, 1] , dtype=np.uint8)\n",
    "\n",
    "for values in os.listdir(Card_Path):\n",
    "    \n",
    "    path = Card_Path + \"\\\\\" + values\n",
    "    path_return = replace_color(path, orginal_color, white, black, 1)\n",
    "    print(path_return)\n"
   ]
  },
  {
   "cell_type": "code",
   "execution_count": 152,
   "id": "9924eb9e",
   "metadata": {},
   "outputs": [],
   "source": [
    "def crop_blank_edges(arr):\n",
    "    row_mask = np.any(arr == False, axis=1)\n",
    "    col_mask = np.any(arr == False, axis=0)\n",
    "    return arr[np.ix_(row_mask, col_mask)]\n",
    "\n",
    "Updated_Card_Path = BASE_PATH + \"\\\\Card_Value\\\\Re_Colored\" \n",
    "\n",
    "for values in os.listdir(Updated_Card_Path):\n",
    "    path = \"Card_Value\\\\Re_Colored\" + \"\\\\\" + values\n",
    "    output_path = \"Card_Value\\\\Re_Sized_Cropped\" + \"\\\\\" + values\n",
    "    image_file = Image.open(path)\n",
    "    image_file = image_file.convert('1')\n",
    "    binary_array = np.array(image_file)\n",
    "    cropped = crop_blank_edges(binary_array)\n",
    "    img_data = np.uint8(cropped * 255)\n",
    "    img = Image.fromarray(img_data, mode = \"L\")\n",
    "    \n",
    "    img.save(output_path)\n"
   ]
  },
  {
   "cell_type": "code",
   "execution_count": 176,
   "id": "1b05c01f",
   "metadata": {},
   "outputs": [
    {
     "data": {
      "text/plain": [
       "'Eight'"
      ]
     },
     "execution_count": 176,
     "metadata": {},
     "output_type": "execute_result"
    }
   ],
   "source": [
    "values = \"Eight.png\"\n",
    "\n",
    "values.split(\".\")[0]"
   ]
  },
  {
   "cell_type": "code",
   "execution_count": 191,
   "id": "7574ac2a",
   "metadata": {},
   "outputs": [
    {
     "name": "stdout",
     "output_type": "stream",
     "text": [
      "Not Here\n",
      "Not Here\n",
      "Not Here\n",
      "Not Here\n"
     ]
    }
   ],
   "source": [
    "def sample_images(path_values, path_symbols, finished_card):\n",
    "    background = Image.open(\"Blank_Card.png\").convert(\"RGBA\")\n",
    "    symbol_forground = Image.open(path_symbols).convert(\"RGBA\")\n",
    "    values_forground = Image.open(path_values).convert(\"RGBA\")\n",
    "    \n",
    "    symbol_position = (5), (25)\n",
    "    values_position = (9), (5)\n",
    "    \n",
    "    background.paste(symbol_forground, symbol_position, symbol_forground)\n",
    "    background.paste(values_forground, values_position, values_forground)\n",
    "    \n",
    "    background.save(finished_card)\n",
    "    \n",
    "    \n",
    "Symbols_Base_Directory = BASE_PATH + \"\\\\Card_Type_Images\\\\Resized_Icons\"\n",
    "Values_Base_Directory = BASE_PATH + \"\\\\Card_Value\\\\Re_Sized_Cropped\"\n",
    "\n",
    "\n",
    "for suits in os.listdir(Symbols_Base_Directory):\n",
    "    Finished_Card_Directory = BASE_PATH + \"\\\\Finished_Card\" + \"\\\\\" + suits.split('.')[0]\n",
    "    if not os.path.exists(Finished_Card_Directory):\n",
    "        print(\"Not Here\")\n",
    "        os.makedirs(Finished_Card_Directory)\n",
    "    Path_To_Symbols = Symbols_Base_Directory + \"\\\\\" + suits\n",
    "    for values in os.listdir(Values_Base_Directory):\n",
    "        Path_To_Values = Values_Base_Directory + \"\\\\\" + values\n",
    "        \n",
    "        Finished_Card_Path = Finished_Card_Directory + \"\\\\\" + suits.split('.')[0] + \"_\" + values\n",
    "        \n",
    "        sample_images(Path_To_Values, Path_To_Symbols, Finished_Card_Path)\n",
    "        "
   ]
  }
 ],
 "metadata": {
  "kernelspec": {
   "display_name": "BalatrosProject",
   "language": "python",
   "name": "python3"
  },
  "language_info": {
   "codemirror_mode": {
    "name": "ipython",
    "version": 3
   },
   "file_extension": ".py",
   "mimetype": "text/x-python",
   "name": "python",
   "nbconvert_exporter": "python",
   "pygments_lexer": "ipython3",
   "version": "3.10.13"
  }
 },
 "nbformat": 4,
 "nbformat_minor": 5
}
