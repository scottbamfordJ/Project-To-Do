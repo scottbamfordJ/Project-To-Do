{
 "cells": [
  {
   "cell_type": "code",
   "execution_count": null,
   "id": "36348a15",
   "metadata": {},
   "outputs": [],
   "source": [
    "# python 3.10\n",
    "\n",
    "# Unsupervised Learning \n",
    "#   Gradient Descent\n",
    "#       Stocahastic Gradient Descent (Instead of Sum of Error, Calc Weights of Error for a single value)\n",
    "#       Mini Batch Gradient Descent (Value of n -> Sum of dataset, looks at a subset of the dataset) \n",
    "\n",
    "\n",
    "# Training Neural Network ->  Back Propgation \n",
    "\n",
    "\n",
    "# Types of Momentum \n",
    "\n",
    "# - Nestrov Momentum - Controlled Overshooting \n"
   ]
  },
  {
   "cell_type": "code",
   "execution_count": 3,
   "id": "3ac06f06",
   "metadata": {},
   "outputs": [
    {
     "name": "stdout",
     "output_type": "stream",
     "text": [
      "Collecting scikit-learn\n",
      "  Downloading scikit_learn-1.7.1-cp311-cp311-win_amd64.whl (8.9 MB)\n",
      "     ---------------------------------------- 8.9/8.9 MB 71.2 MB/s eta 0:00:00\n",
      "Requirement already satisfied: numpy>=1.22.0 in c:\\users\\scott\\documents\\project-to-do\\deep learning and reinforcement learning\\.venv\\lib\\site-packages (from scikit-learn) (2.3.2)\n",
      "Collecting scipy>=1.8.0\n",
      "  Downloading scipy-1.16.1-cp311-cp311-win_amd64.whl (38.6 MB)\n",
      "     --------------------------------------- 38.6/38.6 MB 54.7 MB/s eta 0:00:00\n",
      "Collecting joblib>=1.2.0\n",
      "  Downloading joblib-1.5.1-py3-none-any.whl (307 kB)\n",
      "     ---------------------------------------- 307.7/307.7 kB ? eta 0:00:00\n",
      "Collecting threadpoolctl>=3.1.0\n",
      "  Downloading threadpoolctl-3.6.0-py3-none-any.whl (18 kB)\n",
      "Installing collected packages: threadpoolctl, scipy, joblib, scikit-learn\n",
      "Successfully installed joblib-1.5.1 scikit-learn-1.7.1 scipy-1.16.1 threadpoolctl-3.6.0\n",
      "Note: you may need to restart the kernel to use updated packages.\n"
     ]
    },
    {
     "name": "stderr",
     "output_type": "stream",
     "text": [
      "\n",
      "[notice] A new release of pip available: 22.3 -> 25.2\n",
      "[notice] To update, run: python.exe -m pip install --upgrade pip\n"
     ]
    },
    {
     "name": "stdout",
     "output_type": "stream",
     "text": [
      "Collecting keras\n",
      "  Downloading keras-3.11.2-py3-none-any.whl (1.4 MB)\n",
      "     ---------------------------------------- 1.4/1.4 MB 43.7 MB/s eta 0:00:00\n",
      "Collecting absl-py\n",
      "  Downloading absl_py-2.3.1-py3-none-any.whl (135 kB)\n",
      "     -------------------------------------- 135.8/135.8 kB 7.8 MB/s eta 0:00:00\n",
      "Requirement already satisfied: numpy in c:\\users\\scott\\documents\\project-to-do\\deep learning and reinforcement learning\\.venv\\lib\\site-packages (from keras) (2.3.2)\n",
      "Collecting rich\n",
      "  Downloading rich-14.1.0-py3-none-any.whl (243 kB)\n",
      "     ------------------------------------- 243.4/243.4 kB 14.6 MB/s eta 0:00:00\n",
      "Collecting namex\n",
      "  Downloading namex-0.1.0-py3-none-any.whl (5.9 kB)\n",
      "Collecting h5py\n",
      "  Downloading h5py-3.14.0-cp311-cp311-win_amd64.whl (2.9 MB)\n",
      "     ---------------------------------------- 2.9/2.9 MB 92.4 MB/s eta 0:00:00\n",
      "Collecting optree\n",
      "  Downloading optree-0.17.0-cp311-cp311-win_amd64.whl (313 kB)\n",
      "     ---------------------------------------- 313.8/313.8 kB ? eta 0:00:00\n",
      "Collecting ml-dtypes\n",
      "  Downloading ml_dtypes-0.5.3-cp311-cp311-win_amd64.whl (206 kB)\n",
      "     ---------------------------------------- 206.3/206.3 kB ? eta 0:00:00\n",
      "Requirement already satisfied: packaging in c:\\users\\scott\\documents\\project-to-do\\deep learning and reinforcement learning\\.venv\\lib\\site-packages (from keras) (25.0)\n",
      "Requirement already satisfied: typing-extensions>=4.6.0 in c:\\users\\scott\\documents\\project-to-do\\deep learning and reinforcement learning\\.venv\\lib\\site-packages (from optree->keras) (4.14.1)\n",
      "Collecting markdown-it-py>=2.2.0\n",
      "  Downloading markdown_it_py-4.0.0-py3-none-any.whl (87 kB)\n",
      "     ---------------------------------------- 87.3/87.3 kB ? eta 0:00:00\n",
      "Requirement already satisfied: pygments<3.0.0,>=2.13.0 in c:\\users\\scott\\documents\\project-to-do\\deep learning and reinforcement learning\\.venv\\lib\\site-packages (from rich->keras) (2.19.2)\n",
      "Collecting mdurl~=0.1\n",
      "  Downloading mdurl-0.1.2-py3-none-any.whl (10.0 kB)\n",
      "Installing collected packages: namex, optree, ml-dtypes, mdurl, h5py, absl-py, markdown-it-py, rich, keras\n",
      "Successfully installed absl-py-2.3.1 h5py-3.14.0 keras-3.11.2 markdown-it-py-4.0.0 mdurl-0.1.2 ml-dtypes-0.5.3 namex-0.1.0 optree-0.17.0 rich-14.1.0\n",
      "Note: you may need to restart the kernel to use updated packages.\n"
     ]
    },
    {
     "name": "stderr",
     "output_type": "stream",
     "text": [
      "\n",
      "[notice] A new release of pip available: 22.3 -> 25.2\n",
      "[notice] To update, run: python.exe -m pip install --upgrade pip\n"
     ]
    }
   ],
   "source": [
    "## For Final Project Decide Between Reinforment Learning or Deep learnging\n",
    "\n",
    "%pip install scikit-learn\n",
    "%pip install keras"
   ]
  }
 ],
 "metadata": {
  "kernelspec": {
   "display_name": ".venv (3.11.0)",
   "language": "python",
   "name": "python3"
  },
  "language_info": {
   "codemirror_mode": {
    "name": "ipython",
    "version": 3
   },
   "file_extension": ".py",
   "mimetype": "text/x-python",
   "name": "python",
   "nbconvert_exporter": "python",
   "pygments_lexer": "ipython3",
   "version": "3.11.0"
  }
 },
 "nbformat": 4,
 "nbformat_minor": 5
}
