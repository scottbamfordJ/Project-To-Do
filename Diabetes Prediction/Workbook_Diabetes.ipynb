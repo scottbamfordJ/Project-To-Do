{
 "cells": [
  {
   "cell_type": "code",
   "execution_count": 1,
   "id": "df14b33d",
   "metadata": {},
   "outputs": [],
   "source": [
    "import pandas as pd \n",
    "import numpy as np \n",
    "import matplotlib.pyplot as plt\n",
    "from io import StringIO\n",
    "from IPython.display import Image\n",
    "from sklearn.tree import export_graphviz\n",
    "import pydotplus\n",
    "\n",
    "dataframe = pd.read_csv(\"C:\\\\Users\\\\scott\\\\Documents\\\\Project A Week\\\\Project-A-Week\\\\Diabetes Prediction\\\\Data\\\\diabetes_prediction_dataset.csv\")"
   ]
  },
  {
   "cell_type": "code",
   "execution_count": 2,
   "id": "75ac62d0",
   "metadata": {},
   "outputs": [
    {
     "data": {
      "text/html": [
       "<div>\n",
       "<style scoped>\n",
       "    .dataframe tbody tr th:only-of-type {\n",
       "        vertical-align: middle;\n",
       "    }\n",
       "\n",
       "    .dataframe tbody tr th {\n",
       "        vertical-align: top;\n",
       "    }\n",
       "\n",
       "    .dataframe thead th {\n",
       "        text-align: right;\n",
       "    }\n",
       "</style>\n",
       "<table border=\"1\" class=\"dataframe\">\n",
       "  <thead>\n",
       "    <tr style=\"text-align: right;\">\n",
       "      <th></th>\n",
       "      <th>gender</th>\n",
       "      <th>age</th>\n",
       "      <th>hypertension</th>\n",
       "      <th>heart_disease</th>\n",
       "      <th>smoking_history</th>\n",
       "      <th>bmi</th>\n",
       "      <th>HbA1c_level</th>\n",
       "      <th>blood_glucose_level</th>\n",
       "      <th>diabetes</th>\n",
       "    </tr>\n",
       "  </thead>\n",
       "  <tbody>\n",
       "    <tr>\n",
       "      <th>0</th>\n",
       "      <td>Female</td>\n",
       "      <td>80.0</td>\n",
       "      <td>0</td>\n",
       "      <td>1</td>\n",
       "      <td>never</td>\n",
       "      <td>25.19</td>\n",
       "      <td>6.6</td>\n",
       "      <td>140</td>\n",
       "      <td>0</td>\n",
       "    </tr>\n",
       "    <tr>\n",
       "      <th>1</th>\n",
       "      <td>Female</td>\n",
       "      <td>54.0</td>\n",
       "      <td>0</td>\n",
       "      <td>0</td>\n",
       "      <td>No Info</td>\n",
       "      <td>27.32</td>\n",
       "      <td>6.6</td>\n",
       "      <td>80</td>\n",
       "      <td>0</td>\n",
       "    </tr>\n",
       "    <tr>\n",
       "      <th>2</th>\n",
       "      <td>Male</td>\n",
       "      <td>28.0</td>\n",
       "      <td>0</td>\n",
       "      <td>0</td>\n",
       "      <td>never</td>\n",
       "      <td>27.32</td>\n",
       "      <td>5.7</td>\n",
       "      <td>158</td>\n",
       "      <td>0</td>\n",
       "    </tr>\n",
       "    <tr>\n",
       "      <th>3</th>\n",
       "      <td>Female</td>\n",
       "      <td>36.0</td>\n",
       "      <td>0</td>\n",
       "      <td>0</td>\n",
       "      <td>current</td>\n",
       "      <td>23.45</td>\n",
       "      <td>5.0</td>\n",
       "      <td>155</td>\n",
       "      <td>0</td>\n",
       "    </tr>\n",
       "    <tr>\n",
       "      <th>4</th>\n",
       "      <td>Male</td>\n",
       "      <td>76.0</td>\n",
       "      <td>1</td>\n",
       "      <td>1</td>\n",
       "      <td>current</td>\n",
       "      <td>20.14</td>\n",
       "      <td>4.8</td>\n",
       "      <td>155</td>\n",
       "      <td>0</td>\n",
       "    </tr>\n",
       "  </tbody>\n",
       "</table>\n",
       "</div>"
      ],
      "text/plain": [
       "   gender   age  hypertension  heart_disease smoking_history    bmi  \\\n",
       "0  Female  80.0             0              1           never  25.19   \n",
       "1  Female  54.0             0              0         No Info  27.32   \n",
       "2    Male  28.0             0              0           never  27.32   \n",
       "3  Female  36.0             0              0         current  23.45   \n",
       "4    Male  76.0             1              1         current  20.14   \n",
       "\n",
       "   HbA1c_level  blood_glucose_level  diabetes  \n",
       "0          6.6                  140         0  \n",
       "1          6.6                   80         0  \n",
       "2          5.7                  158         0  \n",
       "3          5.0                  155         0  \n",
       "4          4.8                  155         0  "
      ]
     },
     "execution_count": 2,
     "metadata": {},
     "output_type": "execute_result"
    }
   ],
   "source": [
    "dataframe.head(5)"
   ]
  },
  {
   "cell_type": "code",
   "execution_count": 3,
   "id": "29d8f566",
   "metadata": {},
   "outputs": [
    {
     "data": {
      "text/plain": [
       "age\n",
       "80.00    5621\n",
       "51.00    1619\n",
       "47.00    1574\n",
       "48.00    1568\n",
       "53.00    1542\n",
       "         ... \n",
       "0.48       83\n",
       "1.00       83\n",
       "0.40       66\n",
       "0.16       59\n",
       "0.08       36\n",
       "Name: count, Length: 102, dtype: int64"
      ]
     },
     "execution_count": 3,
     "metadata": {},
     "output_type": "execute_result"
    }
   ],
   "source": [
    "dataframe['gender'].value_counts()\n",
    "dataframe['smoking_history'].value_counts()\n",
    "dataframe['age'].value_counts() #Need To Remove the 0.48's and the 0.4's "
   ]
  },
  {
   "cell_type": "code",
   "execution_count": 4,
   "id": "905ebabe",
   "metadata": {},
   "outputs": [
    {
     "name": "stdout",
     "output_type": "stream",
     "text": [
      "age\n",
      "80.00    5621\n",
      "51.00    1619\n",
      "47.00    1574\n",
      "48.00    1568\n",
      "53.00    1542\n",
      "         ... \n",
      "0.48       83\n",
      "1.00       83\n",
      "0.40       66\n",
      "0.16       59\n",
      "0.08       36\n",
      "Name: count, Length: 102, dtype: int64\n"
     ]
    },
    {
     "data": {
      "text/html": [
       "<div>\n",
       "<style scoped>\n",
       "    .dataframe tbody tr th:only-of-type {\n",
       "        vertical-align: middle;\n",
       "    }\n",
       "\n",
       "    .dataframe tbody tr th {\n",
       "        vertical-align: top;\n",
       "    }\n",
       "\n",
       "    .dataframe thead th {\n",
       "        text-align: right;\n",
       "    }\n",
       "</style>\n",
       "<table border=\"1\" class=\"dataframe\">\n",
       "  <thead>\n",
       "    <tr style=\"text-align: right;\">\n",
       "      <th></th>\n",
       "      <th>gender</th>\n",
       "      <th>age</th>\n",
       "      <th>hypertension</th>\n",
       "      <th>heart_disease</th>\n",
       "      <th>smoking_history</th>\n",
       "      <th>bmi</th>\n",
       "      <th>HbA1c_level</th>\n",
       "      <th>blood_glucose_level</th>\n",
       "      <th>diabetes</th>\n",
       "    </tr>\n",
       "  </thead>\n",
       "  <tbody>\n",
       "    <tr>\n",
       "      <th>0</th>\n",
       "      <td>Female</td>\n",
       "      <td>80.0</td>\n",
       "      <td>0</td>\n",
       "      <td>1</td>\n",
       "      <td>never</td>\n",
       "      <td>25.19</td>\n",
       "      <td>6.6</td>\n",
       "      <td>140</td>\n",
       "      <td>0</td>\n",
       "    </tr>\n",
       "    <tr>\n",
       "      <th>1</th>\n",
       "      <td>Female</td>\n",
       "      <td>54.0</td>\n",
       "      <td>0</td>\n",
       "      <td>0</td>\n",
       "      <td>No Info</td>\n",
       "      <td>27.32</td>\n",
       "      <td>6.6</td>\n",
       "      <td>80</td>\n",
       "      <td>0</td>\n",
       "    </tr>\n",
       "    <tr>\n",
       "      <th>2</th>\n",
       "      <td>Male</td>\n",
       "      <td>28.0</td>\n",
       "      <td>0</td>\n",
       "      <td>0</td>\n",
       "      <td>never</td>\n",
       "      <td>27.32</td>\n",
       "      <td>5.7</td>\n",
       "      <td>158</td>\n",
       "      <td>0</td>\n",
       "    </tr>\n",
       "    <tr>\n",
       "      <th>3</th>\n",
       "      <td>Female</td>\n",
       "      <td>36.0</td>\n",
       "      <td>0</td>\n",
       "      <td>0</td>\n",
       "      <td>current</td>\n",
       "      <td>23.45</td>\n",
       "      <td>5.0</td>\n",
       "      <td>155</td>\n",
       "      <td>0</td>\n",
       "    </tr>\n",
       "    <tr>\n",
       "      <th>4</th>\n",
       "      <td>Male</td>\n",
       "      <td>76.0</td>\n",
       "      <td>1</td>\n",
       "      <td>1</td>\n",
       "      <td>current</td>\n",
       "      <td>20.14</td>\n",
       "      <td>4.8</td>\n",
       "      <td>155</td>\n",
       "      <td>0</td>\n",
       "    </tr>\n",
       "  </tbody>\n",
       "</table>\n",
       "</div>"
      ],
      "text/plain": [
       "   gender   age  hypertension  heart_disease smoking_history    bmi  \\\n",
       "0  Female  80.0             0              1           never  25.19   \n",
       "1  Female  54.0             0              0         No Info  27.32   \n",
       "2    Male  28.0             0              0           never  27.32   \n",
       "3  Female  36.0             0              0         current  23.45   \n",
       "4    Male  76.0             1              1         current  20.14   \n",
       "\n",
       "   HbA1c_level  blood_glucose_level  diabetes  \n",
       "0          6.6                  140         0  \n",
       "1          6.6                   80         0  \n",
       "2          5.7                  158         0  \n",
       "3          5.0                  155         0  \n",
       "4          4.8                  155         0  "
      ]
     },
     "execution_count": 4,
     "metadata": {},
     "output_type": "execute_result"
    }
   ],
   "source": [
    "print(dataframe['age'].value_counts()) #Need To Remove the 0.48's and the 0.4's )\n",
    "\n",
    "testing = dataframe[dataframe['age'] < 1]\n",
    "testing['diabetes'].value_counts()\n",
    "\n",
    "filtered_dataframe = dataframe[dataframe['age']>= 1]\n",
    "\n",
    "## Tested to see if the outcome of this would effect anything, out of the 911/99999 are values unable to actually be readable \n",
    "\n",
    "remade_index_df = filtered_dataframe.reset_index(drop=True)\n",
    "remade_index_df.head(5)"
   ]
  },
  {
   "cell_type": "code",
   "execution_count": 5,
   "id": "63e8c639",
   "metadata": {},
   "outputs": [],
   "source": [
    "remade_index_df['gender'] = remade_index_df.gender.replace('Female', 0).replace('Male', 1).replace('Other', 2).astype(np.int64)\n",
    "remade_index_df['smoking_history'] = remade_index_df.gender.replace('No Info', 0).replace('never', 1).replace('former', 2).replace('current', 3).replace('not current', 4).replace('ever', 5).astype(np.int64)\n",
    "remade_index_df['age'] = remade_index_df.age.astype(np.int64)"
   ]
  },
  {
   "cell_type": "code",
   "execution_count": 6,
   "id": "1e63972e",
   "metadata": {},
   "outputs": [],
   "source": [
    "dataframe['gender'] = dataframe.gender.replace('Female', 0).replace('Male', 1).replace('Other', 2).astype(np.int64)\n",
    "dataframe['smoking_history'] = dataframe.gender.replace('No Info', 0).replace('never', 1).replace('former', 2).replace('current', 3).replace('not current', 4).replace('ever', 5).astype(np.int64)\n",
    "#remade_index_df['age'] = remade_index_df.age.astype(np.int64)"
   ]
  },
  {
   "cell_type": "code",
   "execution_count": 7,
   "id": "84d9cba3",
   "metadata": {},
   "outputs": [
    {
     "data": {
      "text/html": [
       "<div>\n",
       "<style scoped>\n",
       "    .dataframe tbody tr th:only-of-type {\n",
       "        vertical-align: middle;\n",
       "    }\n",
       "\n",
       "    .dataframe tbody tr th {\n",
       "        vertical-align: top;\n",
       "    }\n",
       "\n",
       "    .dataframe thead th {\n",
       "        text-align: right;\n",
       "    }\n",
       "</style>\n",
       "<table border=\"1\" class=\"dataframe\">\n",
       "  <thead>\n",
       "    <tr style=\"text-align: right;\">\n",
       "      <th></th>\n",
       "      <th>Train</th>\n",
       "      <th>test</th>\n",
       "    </tr>\n",
       "  </thead>\n",
       "  <tbody>\n",
       "    <tr>\n",
       "      <th>accuracy</th>\n",
       "      <td>0.997859</td>\n",
       "      <td>0.958000</td>\n",
       "    </tr>\n",
       "    <tr>\n",
       "      <th>precision</th>\n",
       "      <td>0.999878</td>\n",
       "      <td>0.779221</td>\n",
       "    </tr>\n",
       "    <tr>\n",
       "      <th>recall</th>\n",
       "      <td>0.974926</td>\n",
       "      <td>0.705882</td>\n",
       "    </tr>\n",
       "    <tr>\n",
       "      <th>f1</th>\n",
       "      <td>0.987244</td>\n",
       "      <td>0.740741</td>\n",
       "    </tr>\n",
       "  </tbody>\n",
       "</table>\n",
       "</div>"
      ],
      "text/plain": [
       "              Train      test\n",
       "accuracy   0.997859  0.958000\n",
       "precision  0.999878  0.779221\n",
       "recall     0.974926  0.705882\n",
       "f1         0.987244  0.740741"
      ]
     },
     "execution_count": 7,
     "metadata": {},
     "output_type": "execute_result"
    }
   ],
   "source": [
    "feature_cols = [x for x in dataframe.columns if x not in 'diabetes']\n",
    "\n",
    "### Diabietes is Our Prediction\n",
    "from sklearn.model_selection import StratifiedShuffleSplit\n",
    "\n",
    "strat_shuff_split = StratifiedShuffleSplit(n_splits = 1, test_size = 1000, random_state = 42) \n",
    "\n",
    "# Get the Index values from generator\n",
    "train_indx, test_indx = next(strat_shuff_split.split(dataframe[feature_cols], dataframe['diabetes']))\n",
    "\n",
    "#Create the Datasets \n",
    "\n",
    "X_train = dataframe.loc[train_indx, feature_cols]\n",
    "y_train = dataframe.loc[train_indx, 'diabetes']\n",
    "\n",
    "X_test = dataframe.loc[test_indx, feature_cols]\n",
    "y_test = dataframe.loc[test_indx, 'diabetes']\n",
    "\n",
    "\n",
    "from sklearn.tree import DecisionTreeClassifier\n",
    "\n",
    "\n",
    "dt = DecisionTreeClassifier(random_state = 42)\n",
    "\n",
    "dt = dt.fit(X_train, y_train)\n",
    "\n",
    "from sklearn.metrics import accuracy_score, precision_score, recall_score, f1_score\n",
    "\n",
    "\n",
    "def measure_error(y_true, y_pred, label):\n",
    "    return pd.Series({\n",
    "        'accuracy':accuracy_score(y_true,y_pred),\n",
    "        'precision': precision_score(y_true,y_pred),\n",
    "        'recall':recall_score(y_true,y_pred),\n",
    "        'f1': f1_score(y_true, y_pred)},\n",
    "         name=label\n",
    "    )\n",
    "    \n",
    "y_train_pred =  dt.predict(X_train)\n",
    "y_test_pred = dt.predict(X_test)\n",
    "\n",
    "train_test_full_error = pd.concat([measure_error(y_train, y_train_pred, 'Train'),\n",
    "                                   measure_error(y_test, y_test_pred, 'test')], axis = 1)\n",
    "\n",
    "train_test_full_error\n",
    "\n",
    "\n",
    "#Results provided the model is overfit to our Training data espeically since we're trying to train the model with no max layer as well as nodes. \n"
   ]
  },
  {
   "cell_type": "code",
   "execution_count": 8,
   "id": "1ed1edd8",
   "metadata": {},
   "outputs": [
    {
     "data": {
      "text/plain": [
       "gender                   int64\n",
       "age                      int64\n",
       "hypertension             int64\n",
       "heart_disease            int64\n",
       "smoking_history          int64\n",
       "bmi                    float64\n",
       "HbA1c_level            float64\n",
       "blood_glucose_level      int64\n",
       "diabetes                 int64\n",
       "dtype: object"
      ]
     },
     "execution_count": 8,
     "metadata": {},
     "output_type": "execute_result"
    }
   ],
   "source": [
    "remade_index_df.dtypes"
   ]
  },
  {
   "cell_type": "code",
   "execution_count": 9,
   "id": "b420cb2b",
   "metadata": {},
   "outputs": [],
   "source": [
    "feature_cols = [x for x in remade_index_df.columns if x not in 'diabetes']"
   ]
  },
  {
   "cell_type": "code",
   "execution_count": 10,
   "id": "fb5ca3f6",
   "metadata": {},
   "outputs": [],
   "source": [
    "### Diabietes is Our Prediction\n",
    "from sklearn.model_selection import StratifiedShuffleSplit\n",
    "\n",
    "strat_shuff_split = StratifiedShuffleSplit(n_splits = 1, test_size = 1000, random_state = 42) \n",
    "\n",
    "# Get the Index values from generator\n",
    "train_indx, test_indx = next(strat_shuff_split.split(remade_index_df[feature_cols], remade_index_df['diabetes']))\n",
    "\n",
    "#Create the Datasets \n",
    "\n",
    "X_train = remade_index_df.loc[train_indx, feature_cols]\n",
    "y_train = remade_index_df.loc[train_indx, 'diabetes']\n",
    "\n",
    "X_test = remade_index_df.loc[test_indx, feature_cols]\n",
    "y_test = remade_index_df.loc[test_indx, 'diabetes']"
   ]
  },
  {
   "cell_type": "code",
   "execution_count": 11,
   "id": "7b6290f9",
   "metadata": {},
   "outputs": [
    {
     "data": {
      "text/plain": [
       "diabetes\n",
       "0    0.914221\n",
       "1    0.085779\n",
       "Name: proportion, dtype: float64"
      ]
     },
     "execution_count": 11,
     "metadata": {},
     "output_type": "execute_result"
    }
   ],
   "source": [
    "y_train.value_counts(normalize=True).sort_index()"
   ]
  },
  {
   "cell_type": "code",
   "execution_count": 12,
   "id": "67a3c497",
   "metadata": {},
   "outputs": [
    {
     "data": {
      "text/plain": [
       "diabetes\n",
       "0    0.914\n",
       "1    0.086\n",
       "Name: proportion, dtype: float64"
      ]
     },
     "execution_count": 12,
     "metadata": {},
     "output_type": "execute_result"
    }
   ],
   "source": [
    "y_test.value_counts(normalize=True).sort_index()"
   ]
  },
  {
   "cell_type": "code",
   "execution_count": 13,
   "id": "bfd0d146",
   "metadata": {},
   "outputs": [],
   "source": [
    "from sklearn.tree import DecisionTreeClassifier\n",
    "\n",
    "\n",
    "dt = DecisionTreeClassifier(random_state = 42)\n",
    "\n",
    "dt = dt.fit(X_train, y_train)\n",
    "\n"
   ]
  },
  {
   "cell_type": "code",
   "execution_count": 14,
   "id": "d59f17fb",
   "metadata": {},
   "outputs": [
    {
     "data": {
      "text/plain": [
       "(9229, 35)"
      ]
     },
     "execution_count": 14,
     "metadata": {},
     "output_type": "execute_result"
    }
   ],
   "source": [
    "dt.tree_.node_count, dt.tree_.max_depth"
   ]
  },
  {
   "cell_type": "code",
   "execution_count": 15,
   "id": "411ea0e5",
   "metadata": {},
   "outputs": [],
   "source": [
    "from sklearn.metrics import accuracy_score, precision_score, recall_score, f1_score\n",
    "\n",
    "\n",
    "def measure_error(y_true, y_pred, label):\n",
    "    return pd.Series({\n",
    "        'accuracy':accuracy_score(y_true,y_pred),\n",
    "        'precision': precision_score(y_true,y_pred),\n",
    "        'recall':recall_score(y_true,y_pred),\n",
    "        'f1': f1_score(y_true, y_pred)},\n",
    "         name=label\n",
    "    )"
   ]
  },
  {
   "cell_type": "code",
   "execution_count": 16,
   "id": "cae11ab3",
   "metadata": {},
   "outputs": [
    {
     "data": {
      "text/html": [
       "<div>\n",
       "<style scoped>\n",
       "    .dataframe tbody tr th:only-of-type {\n",
       "        vertical-align: middle;\n",
       "    }\n",
       "\n",
       "    .dataframe tbody tr th {\n",
       "        vertical-align: top;\n",
       "    }\n",
       "\n",
       "    .dataframe thead th {\n",
       "        text-align: right;\n",
       "    }\n",
       "</style>\n",
       "<table border=\"1\" class=\"dataframe\">\n",
       "  <thead>\n",
       "    <tr style=\"text-align: right;\">\n",
       "      <th></th>\n",
       "      <th>Train</th>\n",
       "      <th>test</th>\n",
       "    </tr>\n",
       "  </thead>\n",
       "  <tbody>\n",
       "    <tr>\n",
       "      <th>accuracy</th>\n",
       "      <td>0.997839</td>\n",
       "      <td>0.953000</td>\n",
       "    </tr>\n",
       "    <tr>\n",
       "      <th>precision</th>\n",
       "      <td>0.999756</td>\n",
       "      <td>0.729412</td>\n",
       "    </tr>\n",
       "    <tr>\n",
       "      <th>recall</th>\n",
       "      <td>0.975042</td>\n",
       "      <td>0.720930</td>\n",
       "    </tr>\n",
       "    <tr>\n",
       "      <th>f1</th>\n",
       "      <td>0.987244</td>\n",
       "      <td>0.725146</td>\n",
       "    </tr>\n",
       "  </tbody>\n",
       "</table>\n",
       "</div>"
      ],
      "text/plain": [
       "              Train      test\n",
       "accuracy   0.997839  0.953000\n",
       "precision  0.999756  0.729412\n",
       "recall     0.975042  0.720930\n",
       "f1         0.987244  0.725146"
      ]
     },
     "execution_count": 16,
     "metadata": {},
     "output_type": "execute_result"
    }
   ],
   "source": [
    "y_train_pred =  dt.predict(X_train)\n",
    "y_test_pred = dt.predict(X_test)\n",
    "\n",
    "train_test_full_error = pd.concat([measure_error(y_train, y_train_pred, 'Train'),\n",
    "                                   measure_error(y_test, y_test_pred, 'test')], axis = 1)\n",
    "\n",
    "train_test_full_error\n",
    "\n",
    "\n",
    "#Results provided the model is overfit to our Training data espeically since we're trying to train the model with no max layer as well as nodes. \n"
   ]
  },
  {
   "cell_type": "code",
   "execution_count": 18,
   "id": "10ffb074",
   "metadata": {},
   "outputs": [],
   "source": [
    "from sklearn.model_selection import GridSearchCV\n",
    "\n",
    "\n",
    "param_grid = {'max_depth': range (1, dt.tree_.max_depth+1, 2),\n",
    "              'max_features': range(1,len(dt.feature_importances_)+1)}\n",
    "\n",
    "GR = GridSearchCV(DecisionTreeClassifier(random_state=42),\n",
    "                  param_grid=param_grid,\n",
    "                  scoring ='accuracy',\n",
    "                  n_jobs=1)\n",
    "\n",
    "GR = GR.fit(X_train, y_train)"
   ]
  },
  {
   "cell_type": "code",
   "execution_count": 19,
   "id": "c0ae2ea9",
   "metadata": {},
   "outputs": [
    {
     "data": {
      "text/plain": [
       "(35, 7)"
      ]
     },
     "execution_count": 19,
     "metadata": {},
     "output_type": "execute_result"
    }
   ],
   "source": [
    "GR.best_estimator_.tree_.node_count, GR.best_estimator_.tree_.max_depth"
   ]
  },
  {
   "cell_type": "code",
   "execution_count": 20,
   "id": "12a58f96",
   "metadata": {},
   "outputs": [
    {
     "data": {
      "text/html": [
       "<div>\n",
       "<style scoped>\n",
       "    .dataframe tbody tr th:only-of-type {\n",
       "        vertical-align: middle;\n",
       "    }\n",
       "\n",
       "    .dataframe tbody tr th {\n",
       "        vertical-align: top;\n",
       "    }\n",
       "\n",
       "    .dataframe thead th {\n",
       "        text-align: right;\n",
       "    }\n",
       "</style>\n",
       "<table border=\"1\" class=\"dataframe\">\n",
       "  <thead>\n",
       "    <tr style=\"text-align: right;\">\n",
       "      <th></th>\n",
       "      <th>train</th>\n",
       "      <th>test</th>\n",
       "    </tr>\n",
       "  </thead>\n",
       "  <tbody>\n",
       "    <tr>\n",
       "      <th>accuracy</th>\n",
       "      <td>0.971638</td>\n",
       "      <td>0.969000</td>\n",
       "    </tr>\n",
       "    <tr>\n",
       "      <th>precision</th>\n",
       "      <td>1.000000</td>\n",
       "      <td>1.000000</td>\n",
       "    </tr>\n",
       "    <tr>\n",
       "      <th>recall</th>\n",
       "      <td>0.669361</td>\n",
       "      <td>0.639535</td>\n",
       "    </tr>\n",
       "    <tr>\n",
       "      <th>f1</th>\n",
       "      <td>0.801936</td>\n",
       "      <td>0.780142</td>\n",
       "    </tr>\n",
       "  </tbody>\n",
       "</table>\n",
       "</div>"
      ],
      "text/plain": [
       "              train      test\n",
       "accuracy   0.971638  0.969000\n",
       "precision  1.000000  1.000000\n",
       "recall     0.669361  0.639535\n",
       "f1         0.801936  0.780142"
      ]
     },
     "execution_count": 20,
     "metadata": {},
     "output_type": "execute_result"
    }
   ],
   "source": [
    "#Grid Search based upon Accuracy - (35, 7)\n",
    "\n",
    "y_train_pred_gr = GR.predict(X_train)\n",
    "y_test_pred_gr = GR.predict(X_test)\n",
    "\n",
    "train_test_gr_error = pd.concat([measure_error(y_train, y_train_pred_gr, 'train'),\n",
    "                                 measure_error(y_test, y_test_pred_gr,'test')],axis =1)\n",
    "\n",
    "train_test_gr_error"
   ]
  },
  {
   "cell_type": "code",
   "execution_count": 21,
   "id": "d19cb606",
   "metadata": {},
   "outputs": [],
   "source": [
    "from sklearn.model_selection import GridSearchCV\n",
    "\n",
    "\n",
    "param_grid = {'max_depth': range (1, dt.tree_.max_depth+1, 2),\n",
    "              'max_features': range(1,len(dt.feature_importances_)+1)}\n",
    "\n",
    "GR = GridSearchCV(DecisionTreeClassifier(random_state=42),\n",
    "                  param_grid=param_grid,\n",
    "                  scoring ='f1',\n",
    "                  n_jobs=1)\n",
    "\n",
    "GR = GR.fit(X_train, y_train)"
   ]
  },
  {
   "cell_type": "code",
   "execution_count": 22,
   "id": "e21e79ad",
   "metadata": {},
   "outputs": [
    {
     "data": {
      "text/plain": [
       "(87, 9)"
      ]
     },
     "execution_count": 22,
     "metadata": {},
     "output_type": "execute_result"
    }
   ],
   "source": [
    "GR.best_estimator_.tree_.node_count, GR.best_estimator_.tree_.max_depth"
   ]
  },
  {
   "cell_type": "code",
   "execution_count": 23,
   "id": "a50bfac2",
   "metadata": {},
   "outputs": [
    {
     "data": {
      "text/html": [
       "<div>\n",
       "<style scoped>\n",
       "    .dataframe tbody tr th:only-of-type {\n",
       "        vertical-align: middle;\n",
       "    }\n",
       "\n",
       "    .dataframe tbody tr th {\n",
       "        vertical-align: top;\n",
       "    }\n",
       "\n",
       "    .dataframe thead th {\n",
       "        text-align: right;\n",
       "    }\n",
       "</style>\n",
       "<table border=\"1\" class=\"dataframe\">\n",
       "  <thead>\n",
       "    <tr style=\"text-align: right;\">\n",
       "      <th></th>\n",
       "      <th>train</th>\n",
       "      <th>test</th>\n",
       "    </tr>\n",
       "  </thead>\n",
       "  <tbody>\n",
       "    <tr>\n",
       "      <th>accuracy</th>\n",
       "      <td>0.971944</td>\n",
       "      <td>0.968000</td>\n",
       "    </tr>\n",
       "    <tr>\n",
       "      <th>precision</th>\n",
       "      <td>0.995276</td>\n",
       "      <td>0.982143</td>\n",
       "    </tr>\n",
       "    <tr>\n",
       "      <th>recall</th>\n",
       "      <td>0.676135</td>\n",
       "      <td>0.639535</td>\n",
       "    </tr>\n",
       "    <tr>\n",
       "      <th>f1</th>\n",
       "      <td>0.805237</td>\n",
       "      <td>0.774648</td>\n",
       "    </tr>\n",
       "  </tbody>\n",
       "</table>\n",
       "</div>"
      ],
      "text/plain": [
       "              train      test\n",
       "accuracy   0.971944  0.968000\n",
       "precision  0.995276  0.982143\n",
       "recall     0.676135  0.639535\n",
       "f1         0.805237  0.774648"
      ]
     },
     "execution_count": 23,
     "metadata": {},
     "output_type": "execute_result"
    }
   ],
   "source": [
    "#Grid Search based upon F1 - (87, 9)\n",
    "\n",
    "y_train_pred_gr = GR.predict(X_train)\n",
    "y_test_pred_gr = GR.predict(X_test)\n",
    "\n",
    "train_test_gr_error = pd.concat([measure_error(y_train, y_train_pred_gr, 'train'),\n",
    "                                 measure_error(y_test, y_test_pred_gr,'test')],axis =1)\n",
    "\n",
    "train_test_gr_error"
   ]
  },
  {
   "cell_type": "code",
   "execution_count": 24,
   "id": "cc74b8f2",
   "metadata": {},
   "outputs": [],
   "source": [
    "from sklearn.model_selection import GridSearchCV\n",
    "\n",
    "\n",
    "param_grid = {'max_depth': range (1, dt.tree_.max_depth+1, 2),\n",
    "              'max_features': range(1,len(dt.feature_importances_)+1)}\n",
    "\n",
    "GR = GridSearchCV(DecisionTreeClassifier(random_state=42),\n",
    "                  param_grid=param_grid,\n",
    "                  scoring ='recall',\n",
    "                  n_jobs=1)\n",
    "\n",
    "GR = GR.fit(X_train, y_train)"
   ]
  },
  {
   "cell_type": "code",
   "execution_count": 25,
   "id": "520e8de6",
   "metadata": {},
   "outputs": [
    {
     "data": {
      "text/plain": [
       "(9097, 31)"
      ]
     },
     "execution_count": 25,
     "metadata": {},
     "output_type": "execute_result"
    }
   ],
   "source": [
    "GR.best_estimator_.tree_.node_count, GR.best_estimator_.tree_.max_depth"
   ]
  },
  {
   "cell_type": "code",
   "execution_count": 26,
   "id": "089b018a",
   "metadata": {},
   "outputs": [
    {
     "data": {
      "text/html": [
       "<div>\n",
       "<style scoped>\n",
       "    .dataframe tbody tr th:only-of-type {\n",
       "        vertical-align: middle;\n",
       "    }\n",
       "\n",
       "    .dataframe tbody tr th {\n",
       "        vertical-align: top;\n",
       "    }\n",
       "\n",
       "    .dataframe thead th {\n",
       "        text-align: right;\n",
       "    }\n",
       "</style>\n",
       "<table border=\"1\" class=\"dataframe\">\n",
       "  <thead>\n",
       "    <tr style=\"text-align: right;\">\n",
       "      <th></th>\n",
       "      <th>train</th>\n",
       "      <th>test</th>\n",
       "    </tr>\n",
       "  </thead>\n",
       "  <tbody>\n",
       "    <tr>\n",
       "      <th>accuracy</th>\n",
       "      <td>0.997686</td>\n",
       "      <td>0.947000</td>\n",
       "    </tr>\n",
       "    <tr>\n",
       "      <th>precision</th>\n",
       "      <td>0.999268</td>\n",
       "      <td>0.685393</td>\n",
       "    </tr>\n",
       "    <tr>\n",
       "      <th>recall</th>\n",
       "      <td>0.973734</td>\n",
       "      <td>0.709302</td>\n",
       "    </tr>\n",
       "    <tr>\n",
       "      <th>f1</th>\n",
       "      <td>0.986336</td>\n",
       "      <td>0.697143</td>\n",
       "    </tr>\n",
       "  </tbody>\n",
       "</table>\n",
       "</div>"
      ],
      "text/plain": [
       "              train      test\n",
       "accuracy   0.997686  0.947000\n",
       "precision  0.999268  0.685393\n",
       "recall     0.973734  0.709302\n",
       "f1         0.986336  0.697143"
      ]
     },
     "execution_count": 26,
     "metadata": {},
     "output_type": "execute_result"
    }
   ],
   "source": [
    "#Grid Search based upon Recall - (87, 9)\n",
    "\n",
    "y_train_pred_gr = GR.predict(X_train)\n",
    "y_test_pred_gr = GR.predict(X_test)\n",
    "\n",
    "train_test_gr_error = pd.concat([measure_error(y_train, y_train_pred_gr, 'train'),\n",
    "                                 measure_error(y_test, y_test_pred_gr,'test')],axis =1)\n",
    "\n",
    "train_test_gr_error"
   ]
  },
  {
   "cell_type": "code",
   "execution_count": 27,
   "id": "9951e46d",
   "metadata": {},
   "outputs": [
    {
     "name": "stderr",
     "output_type": "stream",
     "text": [
      "c:\\Python311\\Lib\\site-packages\\sklearn\\metrics\\_classification.py:1469: UndefinedMetricWarning: Precision is ill-defined and being set to 0.0 due to no predicted samples. Use `zero_division` parameter to control this behavior.\n",
      "  _warn_prf(average, modifier, msg_start, len(result))\n",
      "c:\\Python311\\Lib\\site-packages\\sklearn\\metrics\\_classification.py:1469: UndefinedMetricWarning: Precision is ill-defined and being set to 0.0 due to no predicted samples. Use `zero_division` parameter to control this behavior.\n",
      "  _warn_prf(average, modifier, msg_start, len(result))\n",
      "c:\\Python311\\Lib\\site-packages\\sklearn\\metrics\\_classification.py:1469: UndefinedMetricWarning: Precision is ill-defined and being set to 0.0 due to no predicted samples. Use `zero_division` parameter to control this behavior.\n",
      "  _warn_prf(average, modifier, msg_start, len(result))\n",
      "c:\\Python311\\Lib\\site-packages\\sklearn\\metrics\\_classification.py:1469: UndefinedMetricWarning: Precision is ill-defined and being set to 0.0 due to no predicted samples. Use `zero_division` parameter to control this behavior.\n",
      "  _warn_prf(average, modifier, msg_start, len(result))\n",
      "c:\\Python311\\Lib\\site-packages\\sklearn\\metrics\\_classification.py:1469: UndefinedMetricWarning: Precision is ill-defined and being set to 0.0 due to no predicted samples. Use `zero_division` parameter to control this behavior.\n",
      "  _warn_prf(average, modifier, msg_start, len(result))\n",
      "c:\\Python311\\Lib\\site-packages\\sklearn\\metrics\\_classification.py:1469: UndefinedMetricWarning: Precision is ill-defined and being set to 0.0 due to no predicted samples. Use `zero_division` parameter to control this behavior.\n",
      "  _warn_prf(average, modifier, msg_start, len(result))\n",
      "c:\\Python311\\Lib\\site-packages\\sklearn\\metrics\\_classification.py:1469: UndefinedMetricWarning: Precision is ill-defined and being set to 0.0 due to no predicted samples. Use `zero_division` parameter to control this behavior.\n",
      "  _warn_prf(average, modifier, msg_start, len(result))\n",
      "c:\\Python311\\Lib\\site-packages\\sklearn\\metrics\\_classification.py:1469: UndefinedMetricWarning: Precision is ill-defined and being set to 0.0 due to no predicted samples. Use `zero_division` parameter to control this behavior.\n",
      "  _warn_prf(average, modifier, msg_start, len(result))\n",
      "c:\\Python311\\Lib\\site-packages\\sklearn\\metrics\\_classification.py:1469: UndefinedMetricWarning: Precision is ill-defined and being set to 0.0 due to no predicted samples. Use `zero_division` parameter to control this behavior.\n",
      "  _warn_prf(average, modifier, msg_start, len(result))\n",
      "c:\\Python311\\Lib\\site-packages\\sklearn\\metrics\\_classification.py:1469: UndefinedMetricWarning: Precision is ill-defined and being set to 0.0 due to no predicted samples. Use `zero_division` parameter to control this behavior.\n",
      "  _warn_prf(average, modifier, msg_start, len(result))\n"
     ]
    }
   ],
   "source": [
    "from sklearn.model_selection import GridSearchCV\n",
    "\n",
    "\n",
    "param_grid = {'max_depth': range (1, dt.tree_.max_depth+1, 2),\n",
    "              'max_features': range(1,len(dt.feature_importances_)+1)}\n",
    "\n",
    "GR = GridSearchCV(DecisionTreeClassifier(random_state=42),\n",
    "                  param_grid=param_grid,\n",
    "                  scoring ='precision',\n",
    "                  n_jobs=1)\n",
    "\n",
    "GR = GR.fit(X_train, y_train)"
   ]
  },
  {
   "cell_type": "code",
   "execution_count": 28,
   "id": "bbe5b815",
   "metadata": {},
   "outputs": [
    {
     "data": {
      "text/plain": [
       "(3, 1)"
      ]
     },
     "execution_count": 28,
     "metadata": {},
     "output_type": "execute_result"
    }
   ],
   "source": [
    "GR.best_estimator_.tree_.node_count, GR.best_estimator_.tree_.max_depth"
   ]
  },
  {
   "cell_type": "code",
   "execution_count": null,
   "id": "22537337",
   "metadata": {},
   "outputs": [
    {
     "data": {
      "text/html": [
       "<div>\n",
       "<style scoped>\n",
       "    .dataframe tbody tr th:only-of-type {\n",
       "        vertical-align: middle;\n",
       "    }\n",
       "\n",
       "    .dataframe tbody tr th {\n",
       "        vertical-align: top;\n",
       "    }\n",
       "\n",
       "    .dataframe thead th {\n",
       "        text-align: right;\n",
       "    }\n",
       "</style>\n",
       "<table border=\"1\" class=\"dataframe\">\n",
       "  <thead>\n",
       "    <tr style=\"text-align: right;\">\n",
       "      <th></th>\n",
       "      <th>train</th>\n",
       "      <th>test</th>\n",
       "    </tr>\n",
       "  </thead>\n",
       "  <tbody>\n",
       "    <tr>\n",
       "      <th>accuracy</th>\n",
       "      <td>0.947344</td>\n",
       "      <td>0.942000</td>\n",
       "    </tr>\n",
       "    <tr>\n",
       "      <th>precision</th>\n",
       "      <td>1.000000</td>\n",
       "      <td>1.000000</td>\n",
       "    </tr>\n",
       "    <tr>\n",
       "      <th>recall</th>\n",
       "      <td>0.386142</td>\n",
       "      <td>0.325581</td>\n",
       "    </tr>\n",
       "    <tr>\n",
       "      <th>f1</th>\n",
       "      <td>0.557147</td>\n",
       "      <td>0.491228</td>\n",
       "    </tr>\n",
       "  </tbody>\n",
       "</table>\n",
       "</div>"
      ],
      "text/plain": [
       "              train      test\n",
       "accuracy   0.947344  0.942000\n",
       "precision  1.000000  1.000000\n",
       "recall     0.386142  0.325581\n",
       "f1         0.557147  0.491228"
      ]
     },
     "execution_count": 29,
     "metadata": {},
     "output_type": "execute_result"
    }
   ],
   "source": [
    "#Grid Search based upon Precision - (3, 1)\n",
    "\n",
    "y_train_pred_gr = GR.predict(X_train)\n",
    "y_test_pred_gr = GR.predict(X_test)\n",
    "\n",
    "train_test_gr_error = pd.concat([measure_error(y_train, y_train_pred_gr, 'train'),\n",
    "                                 measure_error(y_test, y_test_pred_gr,'test')],axis =1)\n",
    "\n",
    "train_test_gr_error"
   ]
  },
  {
   "cell_type": "code",
   "execution_count": null,
   "id": "bbbceecb",
   "metadata": {},
   "outputs": [],
   "source": [
    "dot_data = StringIO()\n",
    "export_graphviz(dt, out_file=dot_data, filled=True)\n",
    "graph = pydotplus.graph_from_dot_data(dot_data.getvalue())\n",
    "\n",
    "file_name = 'DecisionTreeUnRestrained.png'\n",
    "graph.write_png(file_name)\n",
    "Image(file_name)"
   ]
  },
  {
   "cell_type": "code",
   "execution_count": null,
   "id": "a738ec72",
   "metadata": {},
   "outputs": [],
   "source": [
    "#Graph of Descision Data From Grid Search \n",
    "\n",
    "dot_data = StringIO()\n",
    "export_graphviz(GR.best_estimator_, out_file=dot_data, filled=True)\n",
    "graph = pydotplus.graph_from_dot_data(dot_data.getvalue())\n",
    "\n",
    "file_name = 'DecisionTreeGR.png'\n",
    "graph.write_png(file_name)\n",
    "Image(file_name)"
   ]
  },
  {
   "cell_type": "code",
   "execution_count": 31,
   "id": "5593540c",
   "metadata": {},
   "outputs": [
    {
     "name": "stderr",
     "output_type": "stream",
     "text": [
      "c:\\Python311\\Lib\\site-packages\\sklearn\\ensemble\\_forest.py:578: UserWarning: Some inputs do not have OOB scores. This probably means too few trees were used to compute any reliable OOB estimates.\n",
      "  warn(\n",
      "c:\\Python311\\Lib\\site-packages\\sklearn\\ensemble\\_forest.py:578: UserWarning: Some inputs do not have OOB scores. This probably means too few trees were used to compute any reliable OOB estimates.\n",
      "  warn(\n"
     ]
    },
    {
     "data": {
      "text/html": [
       "<div>\n",
       "<style scoped>\n",
       "    .dataframe tbody tr th:only-of-type {\n",
       "        vertical-align: middle;\n",
       "    }\n",
       "\n",
       "    .dataframe tbody tr th {\n",
       "        vertical-align: top;\n",
       "    }\n",
       "\n",
       "    .dataframe thead th {\n",
       "        text-align: right;\n",
       "    }\n",
       "</style>\n",
       "<table border=\"1\" class=\"dataframe\">\n",
       "  <thead>\n",
       "    <tr style=\"text-align: right;\">\n",
       "      <th></th>\n",
       "      <th>oob</th>\n",
       "    </tr>\n",
       "    <tr>\n",
       "      <th>n_trees</th>\n",
       "      <th></th>\n",
       "    </tr>\n",
       "  </thead>\n",
       "  <tbody>\n",
       "    <tr>\n",
       "      <th>15.0</th>\n",
       "      <td>0.034489</td>\n",
       "    </tr>\n",
       "    <tr>\n",
       "      <th>20.0</th>\n",
       "      <td>0.033990</td>\n",
       "    </tr>\n",
       "    <tr>\n",
       "      <th>30.0</th>\n",
       "      <td>0.033276</td>\n",
       "    </tr>\n",
       "    <tr>\n",
       "      <th>40.0</th>\n",
       "      <td>0.032899</td>\n",
       "    </tr>\n",
       "    <tr>\n",
       "      <th>50.0</th>\n",
       "      <td>0.033011</td>\n",
       "    </tr>\n",
       "    <tr>\n",
       "      <th>100.0</th>\n",
       "      <td>0.032297</td>\n",
       "    </tr>\n",
       "    <tr>\n",
       "      <th>150.0</th>\n",
       "      <td>0.032124</td>\n",
       "    </tr>\n",
       "    <tr>\n",
       "      <th>200.0</th>\n",
       "      <td>0.031981</td>\n",
       "    </tr>\n",
       "    <tr>\n",
       "      <th>300.0</th>\n",
       "      <td>0.031859</td>\n",
       "    </tr>\n",
       "    <tr>\n",
       "      <th>400.0</th>\n",
       "      <td>0.031696</td>\n",
       "    </tr>\n",
       "    <tr>\n",
       "      <th>500.0</th>\n",
       "      <td>0.031502</td>\n",
       "    </tr>\n",
       "    <tr>\n",
       "      <th>600.0</th>\n",
       "      <td>0.031533</td>\n",
       "    </tr>\n",
       "    <tr>\n",
       "      <th>700.0</th>\n",
       "      <td>0.031431</td>\n",
       "    </tr>\n",
       "  </tbody>\n",
       "</table>\n",
       "</div>"
      ],
      "text/plain": [
       "              oob\n",
       "n_trees          \n",
       "15.0     0.034489\n",
       "20.0     0.033990\n",
       "30.0     0.033276\n",
       "40.0     0.032899\n",
       "50.0     0.033011\n",
       "100.0    0.032297\n",
       "150.0    0.032124\n",
       "200.0    0.031981\n",
       "300.0    0.031859\n",
       "400.0    0.031696\n",
       "500.0    0.031502\n",
       "600.0    0.031533\n",
       "700.0    0.031431"
      ]
     },
     "execution_count": 31,
     "metadata": {},
     "output_type": "execute_result"
    }
   ],
   "source": [
    "#Found F1 Score was to low for me to accept the outcome, we would rather have a higher accuracy, but I am using F1 for generalized output optimization \n",
    "### Going to See if WE can introduce Random Forests to fix this. \n",
    "\n",
    "## Random Forests \n",
    "\n",
    "\n",
    "from sklearn.ensemble import RandomForestClassifier\n",
    "\n",
    "RF = RandomForestClassifier(oob_score=True,\n",
    "                            random_state = 42,\n",
    "                            warm_start = True,\n",
    "                            n_jobs=-1)\n",
    "\n",
    "oob_list = list()\n",
    "\n",
    "for n_trees in [15,20,30,40,50,100,150,200,300,400,500,600,700]:\n",
    "    \n",
    "    RF.set_params(n_estimators= n_trees)\n",
    "    RF.fit(X_train, y_train)\n",
    "    oob_error =1 - RF.oob_score_\n",
    "    oob_list.append(pd.Series({'n_trees': n_trees, 'oob':oob_error}))\n",
    "    \n",
    "rf_oob_df = pd.concat(oob_list, axis =1).T.set_index('n_trees')\n",
    "\n",
    "rf_oob_df\n"
   ]
  },
  {
   "cell_type": "code",
   "execution_count": 32,
   "id": "27947bea",
   "metadata": {},
   "outputs": [],
   "source": [
    "import matplotlib.pyplot as plt \n",
    "import seaborn as sns \n",
    "\n",
    "%matplotlib inline"
   ]
  },
  {
   "cell_type": "code",
   "execution_count": 36,
   "id": "c3b7eb26",
   "metadata": {},
   "outputs": [
    {
     "data": {
      "text/plain": [
       "[Text(0, 0.5, 'out of bag error')]"
      ]
     },
     "execution_count": 36,
     "metadata": {},
     "output_type": "execute_result"
    },
    {
     "data": {
      "image/png": "[encoded data removed]",
      "text/plain": [
       "<Figure size 1000x500 with 1 Axes>"
      ]
     },
     "metadata": {},
     "output_type": "display_data"
    }
   ],
   "source": [
    "sns.set_context('talk')\n",
    "sns.set_style('white')\n",
    "\n",
    "ax = rf_oob_df.plot(legend=False, marker ='o', figsize = (10,5), linewidth = 5)\n",
    "ax.set(ylabel = 'out of bag error')"
   ]
  },
  {
   "cell_type": "code",
   "execution_count": null,
   "id": "eebccd21",
   "metadata": {},
   "outputs": [
    {
     "name": "stdout",
     "output_type": "stream",
     "text": [
      "              train      test\n",
      "accuracy   0.997839  0.969000\n",
      "precision  0.998784  0.966102\n",
      "recall     0.975992  0.662791\n",
      "f1         0.987257  0.786207\n"
     ]
    }
   ],
   "source": [
    "RF = RandomForestClassifier(oob_score=True,\n",
    "                            random_state = 42,\n",
    "                            warm_start = True,\n",
    "                            n_jobs=-1)\n",
    "\n",
    "RF.set_params(n_estimators= 200)\n",
    "\n",
    "RF = RF.fit(X_train, y_train)\n",
    "\n",
    "y_train_pred_RF = RF.predict(X_train)\n",
    "y_test_pred_RF = RF.predict(X_test)\n",
    "\n",
    "train_test_RF_error = pd.concat([measure_error(y_train, y_train_pred_RF, 'train'),\n",
    "                                 measure_error(y_test, y_test_pred_RF,'test')],axis =1)\n",
    "\n",
    "print(train_test_RF_error)\n",
    "\n"
   ]
  },
  {
   "cell_type": "code",
   "execution_count": 49,
   "id": "a3e804f9",
   "metadata": {},
   "outputs": [
    {
     "name": "stderr",
     "output_type": "stream",
     "text": [
      "c:\\Python311\\Lib\\site-packages\\sklearn\\ensemble\\_forest.py:578: UserWarning: Some inputs do not have OOB scores. This probably means too few trees were used to compute any reliable OOB estimates.\n",
      "  warn(\n",
      "c:\\Python311\\Lib\\site-packages\\sklearn\\ensemble\\_forest.py:578: UserWarning: Some inputs do not have OOB scores. This probably means too few trees were used to compute any reliable OOB estimates.\n",
      "  warn(\n"
     ]
    },
    {
     "data": {
      "text/html": [
       "<div>\n",
       "<style scoped>\n",
       "    .dataframe tbody tr th:only-of-type {\n",
       "        vertical-align: middle;\n",
       "    }\n",
       "\n",
       "    .dataframe tbody tr th {\n",
       "        vertical-align: top;\n",
       "    }\n",
       "\n",
       "    .dataframe thead th {\n",
       "        text-align: right;\n",
       "    }\n",
       "</style>\n",
       "<table border=\"1\" class=\"dataframe\">\n",
       "  <thead>\n",
       "    <tr style=\"text-align: right;\">\n",
       "      <th></th>\n",
       "      <th>oob</th>\n",
       "    </tr>\n",
       "    <tr>\n",
       "      <th>n_trees</th>\n",
       "      <th></th>\n",
       "    </tr>\n",
       "  </thead>\n",
       "  <tbody>\n",
       "    <tr>\n",
       "      <th>15.0</th>\n",
       "      <td>0.037089</td>\n",
       "    </tr>\n",
       "    <tr>\n",
       "      <th>20.0</th>\n",
       "      <td>0.035753</td>\n",
       "    </tr>\n",
       "    <tr>\n",
       "      <th>30.0</th>\n",
       "      <td>0.034357</td>\n",
       "    </tr>\n",
       "    <tr>\n",
       "      <th>40.0</th>\n",
       "      <td>0.033541</td>\n",
       "    </tr>\n",
       "    <tr>\n",
       "      <th>50.0</th>\n",
       "      <td>0.033256</td>\n",
       "    </tr>\n",
       "    <tr>\n",
       "      <th>100.0</th>\n",
       "      <td>0.032328</td>\n",
       "    </tr>\n",
       "    <tr>\n",
       "      <th>150.0</th>\n",
       "      <td>0.031910</td>\n",
       "    </tr>\n",
       "    <tr>\n",
       "      <th>200.0</th>\n",
       "      <td>0.031859</td>\n",
       "    </tr>\n",
       "    <tr>\n",
       "      <th>300.0</th>\n",
       "      <td>0.031818</td>\n",
       "    </tr>\n",
       "    <tr>\n",
       "      <th>400.0</th>\n",
       "      <td>0.031736</td>\n",
       "    </tr>\n",
       "    <tr>\n",
       "      <th>500.0</th>\n",
       "      <td>0.031706</td>\n",
       "    </tr>\n",
       "    <tr>\n",
       "      <th>600.0</th>\n",
       "      <td>0.031696</td>\n",
       "    </tr>\n",
       "    <tr>\n",
       "      <th>700.0</th>\n",
       "      <td>0.031757</td>\n",
       "    </tr>\n",
       "  </tbody>\n",
       "</table>\n",
       "</div>"
      ],
      "text/plain": [
       "              oob\n",
       "n_trees          \n",
       "15.0     0.037089\n",
       "20.0     0.035753\n",
       "30.0     0.034357\n",
       "40.0     0.033541\n",
       "50.0     0.033256\n",
       "100.0    0.032328\n",
       "150.0    0.031910\n",
       "200.0    0.031859\n",
       "300.0    0.031818\n",
       "400.0    0.031736\n",
       "500.0    0.031706\n",
       "600.0    0.031696\n",
       "700.0    0.031757"
      ]
     },
     "execution_count": 49,
     "metadata": {},
     "output_type": "execute_result"
    }
   ],
   "source": [
    "### For ExtraTreeClassifier \n",
    "from sklearn.ensemble import ExtraTreesClassifier\n",
    "\n",
    "EF = ExtraTreesClassifier(oob_score =True,\n",
    "                          random_state = 42,\n",
    "                          warm_start = True,\n",
    "                          bootstrap = True,\n",
    "                          n_jobs = -1)\n",
    "\n",
    "oob_list = list()\n",
    "\n",
    "for n_trees in [15,20,30,40,50,100,150,200,300,400,500,600,700]:\n",
    "    \n",
    "    EF.set_params(n_estimators= n_trees)\n",
    "    EF.fit(X_train, y_train)\n",
    "    oob_error =1 - EF.oob_score_\n",
    "    oob_list.append(pd.Series({'n_trees': n_trees, 'oob':oob_error}))\n",
    "    \n",
    "ef_oob_df = pd.concat(oob_list, axis =1).T.set_index('n_trees')\n",
    "\n",
    "ef_oob_df\n"
   ]
  },
  {
   "cell_type": "code",
   "execution_count": 50,
   "id": "53bc8b39",
   "metadata": {},
   "outputs": [
    {
     "data": {
      "text/plain": [
       "[Text(0, 0.5, 'out of bag error')]"
      ]
     },
     "execution_count": 50,
     "metadata": {},
     "output_type": "execute_result"
    },
    {
     "data": {
      "image/png": "[encoded data removed]",
      "text/plain": [
       "<Figure size 1000x500 with 1 Axes>"
      ]
     },
     "metadata": {},
     "output_type": "display_data"
    }
   ],
   "source": [
    "sns.set_context('talk')\n",
    "sns.set_style('white')\n",
    "\n",
    "ax = ef_oob_df.plot(legend=False, marker ='o', figsize = (10,5), linewidth = 5)\n",
    "ax.set(ylabel = 'out of bag error')"
   ]
  },
  {
   "cell_type": "code",
   "execution_count": 52,
   "id": "8702bd5c",
   "metadata": {},
   "outputs": [
    {
     "name": "stdout",
     "output_type": "stream",
     "text": [
      "              train      test\n",
      "accuracy   0.997829  0.965000\n",
      "precision  0.998541  0.918033\n",
      "recall     0.976111  0.651163\n",
      "f1         0.987199  0.761905\n"
     ]
    }
   ],
   "source": [
    "#Chose Number 150 \n",
    "\n",
    "EF = ExtraTreesClassifier(oob_score =True,\n",
    "                          random_state = 42,\n",
    "                          warm_start = True,\n",
    "                          bootstrap = True,\n",
    "                          n_jobs = -1)\n",
    "\n",
    "EF.set_params(n_estimators= 150)\n",
    "\n",
    "\n",
    "EF = EF.fit(X_train, y_train)\n",
    "\n",
    "y_train_pred_EF = EF.predict(X_train)\n",
    "y_test_pred_EF = EF.predict(X_test)\n",
    "\n",
    "train_test_EF_error = pd.concat([measure_error(y_train, y_train_pred_EF, 'train'),\n",
    "                                 measure_error(y_test, y_test_pred_EF,'test')],axis =1)\n",
    "\n",
    "print(train_test_EF_error)"
   ]
  },
  {
   "cell_type": "code",
   "execution_count": null,
   "id": "f506db21",
   "metadata": {},
   "outputs": [
    {
     "name": "stderr",
     "output_type": "stream",
     "text": [
      "c:\\Python311\\Lib\\site-packages\\sklearn\\base.py:458: UserWarning: X has feature names, but GradientBoostingClassifier was fitted without feature names\n",
      "  warnings.warn(\n",
      "c:\\Python311\\Lib\\site-packages\\sklearn\\base.py:458: UserWarning: X has feature names, but GradientBoostingClassifier was fitted without feature names\n",
      "  warnings.warn(\n",
      "c:\\Python311\\Lib\\site-packages\\sklearn\\base.py:458: UserWarning: X has feature names, but GradientBoostingClassifier was fitted without feature names\n",
      "  warnings.warn(\n",
      "c:\\Python311\\Lib\\site-packages\\sklearn\\base.py:458: UserWarning: X has feature names, but GradientBoostingClassifier was fitted without feature names\n",
      "  warnings.warn(\n",
      "c:\\Python311\\Lib\\site-packages\\sklearn\\base.py:458: UserWarning: X has feature names, but GradientBoostingClassifier was fitted without feature names\n",
      "  warnings.warn(\n",
      "c:\\Python311\\Lib\\site-packages\\sklearn\\base.py:458: UserWarning: X has feature names, but GradientBoostingClassifier was fitted without feature names\n",
      "  warnings.warn(\n"
     ]
    },
    {
     "data": {
      "text/html": [
       "<div>\n",
       "<style scoped>\n",
       "    .dataframe tbody tr th:only-of-type {\n",
       "        vertical-align: middle;\n",
       "    }\n",
       "\n",
       "    .dataframe tbody tr th {\n",
       "        vertical-align: top;\n",
       "    }\n",
       "\n",
       "    .dataframe thead th {\n",
       "        text-align: right;\n",
       "    }\n",
       "</style>\n",
       "<table border=\"1\" class=\"dataframe\">\n",
       "  <thead>\n",
       "    <tr style=\"text-align: right;\">\n",
       "      <th></th>\n",
       "      <th>error</th>\n",
       "    </tr>\n",
       "    <tr>\n",
       "      <th>n_trees</th>\n",
       "      <th></th>\n",
       "    </tr>\n",
       "  </thead>\n",
       "  <tbody>\n",
       "    <tr>\n",
       "      <th>15.0</th>\n",
       "      <td>0.031</td>\n",
       "    </tr>\n",
       "    <tr>\n",
       "      <th>25.0</th>\n",
       "      <td>0.031</td>\n",
       "    </tr>\n",
       "    <tr>\n",
       "      <th>50.0</th>\n",
       "      <td>0.031</td>\n",
       "    </tr>\n",
       "    <tr>\n",
       "      <th>100.0</th>\n",
       "      <td>0.033</td>\n",
       "    </tr>\n",
       "    <tr>\n",
       "      <th>200.0</th>\n",
       "      <td>0.034</td>\n",
       "    </tr>\n",
       "    <tr>\n",
       "      <th>400.0</th>\n",
       "      <td>0.034</td>\n",
       "    </tr>\n",
       "  </tbody>\n",
       "</table>\n",
       "</div>"
      ],
      "text/plain": [
       "         error\n",
       "n_trees       \n",
       "15.0     0.031\n",
       "25.0     0.031\n",
       "50.0     0.031\n",
       "100.0    0.033\n",
       "200.0    0.034\n",
       "400.0    0.034"
      ]
     },
     "execution_count": 63,
     "metadata": {},
     "output_type": "execute_result"
    }
   ],
   "source": [
    "# Boosting\n",
    "\n",
    "from sklearn.ensemble import GradientBoostingClassifier\n",
    "from sklearn.metrics import accuracy_score\n",
    "\n",
    "error_list = list()\n",
    "\n",
    "tree_list = [15, 25, 50, 100, 200, 400]\n",
    "\n",
    "for n_trees in tree_list:\n",
    "    \n",
    "    GBC = GradientBoostingClassifier(n_estimators=n_trees, random_state=42)\n",
    "    \n",
    "    GBC.fit(X_train.values, y_train.values)\n",
    "    y_pred = GBC.predict(X_test)\n",
    "    \n",
    "    error = 1.0 - accuracy_score(y_test, y_pred)\n",
    "    \n",
    "    error_list.append(pd.Series({'n_trees' : n_trees, 'error': error}))\n",
    "\n",
    "error_df = pd.concat(error_list, axis = 1).T.set_index('n_trees')\n",
    "\n",
    "error_df\n"
   ]
  },
  {
   "cell_type": "code",
   "execution_count": 64,
   "id": "73f9b43d",
   "metadata": {},
   "outputs": [
    {
     "data": {
      "text/plain": [
       "(0.0, 440.00000000000006)"
      ]
     },
     "execution_count": 64,
     "metadata": {},
     "output_type": "execute_result"
    },
    {
     "data": {
      "image/png": "[encoded data removed]",
      "text/plain": [
       "<Figure size 1200x800 with 1 Axes>"
      ]
     },
     "metadata": {},
     "output_type": "display_data"
    }
   ],
   "source": [
    "sns.set_context('talk')\n",
    "sns.set_style('white')\n",
    "#sns.set_palette(palette)\n",
    "\n",
    "ax = error_df.plot(marker ='o', figsize = (12,8), linewidth =5)\n",
    "\n",
    "ax.set(xlabel = 'Number of Trees', ylabel='Error')\n",
    "\n",
    "ax.set_xlim(0, max(error_df.index) * 1.1)"
   ]
  },
  {
   "cell_type": "code",
   "execution_count": 77,
   "id": "0bf07beb",
   "metadata": {},
   "outputs": [],
   "source": [
    "# Hyper Paramater Tuning Gradient Boosting \n",
    "\n",
    "param_grid = {'learning_rate': [0.1, 0.01, 0.001],\n",
    "              'subsample': [1.0, 0.75, 0.5, 0.25]}\n",
    "\n",
    "\n",
    "CV_GB = GridSearchCV(GradientBoostingClassifier(n_estimators = 50, random_state = 42),\n",
    "                     param_grid = param_grid,\n",
    "                     scoring = 'accuracy',\n",
    "                     n_jobs = -1)\n",
    "\n",
    "CV_GB = CV_GB.fit(X_train, y_train)\n",
    "\n"
   ]
  },
  {
   "cell_type": "code",
   "execution_count": 78,
   "id": "ba8ea260",
   "metadata": {},
   "outputs": [
    {
     "name": "stdout",
     "output_type": "stream",
     "text": [
      "0.1\n",
      "GradientBoostingClassifier(n_estimators=50, random_state=42, subsample=0.25)\n"
     ]
    }
   ],
   "source": [
    "print(CV_GB.best_estimator_.learning_rate)\n",
    "print(CV_GB.best_estimator_)"
   ]
  },
  {
   "cell_type": "code",
   "execution_count": null,
   "id": "0f709c49",
   "metadata": {},
   "outputs": [
    {
     "name": "stdout",
     "output_type": "stream",
     "text": [
      "              precision    recall  f1-score   support\n",
      "\n",
      "           0       0.97      1.00      0.98       914\n",
      "           1       1.00      0.64      0.78        86\n",
      "\n",
      "    accuracy                           0.97      1000\n",
      "   macro avg       0.98      0.82      0.88      1000\n",
      "weighted avg       0.97      0.97      0.97      1000\n",
      "\n",
      "              train      test\n",
      "accuracy   0.971730  0.969000\n",
      "precision  0.996829  1.000000\n",
      "recall     0.672570  0.639535\n",
      "f1         0.803208  0.780142\n"
     ]
    }
   ],
   "source": [
    "from sklearn.metrics import classification_report \n",
    "CV_GB = GradientBoostingClassifier(n_estimators=50, learning_rate=0.1, subsample=0.25, random_state= 42)\n",
    "CV_GB = CV_GB.fit(X_train, y_train)\n",
    "\n",
    "y_pred = CV_GB.predict(X_test)\n",
    "print(classification_report(y_test, y_pred))\n",
    "\n",
    "y_train_pred_CV_GB = CV_GB.predict(X_train)\n",
    "y_test_pred_CV_GB = CV_GB.predict(X_test)\n",
    "\n",
    "CV_GB_report = pd.concat([measure_error(y_train, y_train_pred_CV_GB, 'train'),\n",
    "                                 measure_error(y_test, y_test_pred_CV_GB,'test')],axis =1)\n",
    "print(CV_GB_report)"
   ]
  },
  {
   "cell_type": "code",
   "execution_count": 83,
   "id": "54cedf6d",
   "metadata": {},
   "outputs": [
    {
     "name": "stdout",
     "output_type": "stream",
     "text": [
      "              precision    recall  f1-score   support\n",
      "\n",
      "           0       0.97      1.00      0.98       914\n",
      "           1       1.00      0.64      0.78        86\n",
      "\n",
      "    accuracy                           0.97      1000\n",
      "   macro avg       0.98      0.82      0.88      1000\n",
      "weighted avg       0.97      0.97      0.97      1000\n",
      "\n"
     ]
    }
   ],
   "source": [
    "print(classification_report(y_test, y_test_pred_CV_GB))"
   ]
  },
  {
   "cell_type": "code",
   "execution_count": 84,
   "id": "34cd64a3",
   "metadata": {},
   "outputs": [
    {
     "name": "stdout",
     "output_type": "stream",
     "text": [
      "              precision    recall  f1-score   support\n",
      "\n",
      "           0       0.97      1.00      0.98     89675\n",
      "           1       1.00      0.67      0.80      8414\n",
      "\n",
      "    accuracy                           0.97     98089\n",
      "   macro avg       0.98      0.84      0.89     98089\n",
      "weighted avg       0.97      0.97      0.97     98089\n",
      "\n"
     ]
    }
   ],
   "source": [
    "print(classification_report(y_train, y_train_pred_CV_GB))"
   ]
  },
  {
   "cell_type": "code",
   "execution_count": 81,
   "id": "f15e38ed",
   "metadata": {},
   "outputs": [
    {
     "name": "stdout",
     "output_type": "stream",
     "text": [
      "              precision    recall  f1-score   support\n",
      "\n",
      "           0       1.00      0.97      0.98       945\n",
      "           1       0.64      1.00      0.78        55\n",
      "\n",
      "    accuracy                           0.97      1000\n",
      "   macro avg       0.82      0.98      0.88      1000\n",
      "weighted avg       0.98      0.97      0.97      1000\n",
      "\n"
     ]
    }
   ],
   "source": [
    "print(classification_report(y_pred, y_test))"
   ]
  },
  {
   "cell_type": "code",
   "execution_count": 74,
   "id": "d3b41e55",
   "metadata": {},
   "outputs": [
    {
     "data": {
      "image/png": "[encoded data removed]",
      "text/plain": [
       "<Figure size 640x480 with 2 Axes>"
      ]
     },
     "metadata": {},
     "output_type": "display_data"
    }
   ],
   "source": [
    "from sklearn.metrics import confusion_matrix\n",
    "\n",
    "sns.set_context('talk')\n",
    "cm = confusion_matrix(y_test, y_pred)\n",
    "ax = sns.heatmap(cm, annot=True, fmt='d')"
   ]
  },
  {
   "cell_type": "code",
   "execution_count": 85,
   "id": "df2d8e8c",
   "metadata": {},
   "outputs": [
    {
     "name": "stdout",
     "output_type": "stream",
     "text": [
      "              train      test\n",
      "accuracy   0.997839  0.969000\n",
      "precision  0.998784  0.966102\n",
      "recall     0.975992  0.662791\n",
      "f1         0.987257  0.786207\n"
     ]
    }
   ],
   "source": [
    "# Final Selection of Model \n",
    "\n",
    "RF = RandomForestClassifier(oob_score=True,\n",
    "                            random_state = 42,\n",
    "                            warm_start = True,\n",
    "                            n_jobs=-1)\n",
    "\n",
    "RF.set_params(n_estimators= 200)\n",
    "\n",
    "RF = RF.fit(X_train, y_train)\n",
    "\n",
    "y_train_pred_RF = RF.predict(X_train)\n",
    "y_test_pred_RF = RF.predict(X_test)\n",
    "\n",
    "train_test_RF_error = pd.concat([measure_error(y_train, y_train_pred_RF, 'train'),\n",
    "                                 measure_error(y_test, y_test_pred_RF,'test')],axis =1)\n",
    "\n",
    "print(train_test_RF_error)\n"
   ]
  },
  {
   "cell_type": "code",
   "execution_count": null,
   "id": "061fc357",
   "metadata": {},
   "outputs": [
    {
     "data": {
      "image/png": "[encoded data removed]",
      "text/plain": [
       "<Figure size 640x480 with 2 Axes>"
      ]
     },
     "metadata": {},
     "output_type": "display_data"
    }
   ],
   "source": [
    "#Confusion Matrix \n",
    "\n",
    "sns.set_context('talk')\n",
    "final_matrix = confusion_matrix(y_test, y_test_pred_RF)\n",
    "ax = sns.heatmap(cm, annot=True, fmt='d')"
   ]
  },
  {
   "cell_type": "code",
   "execution_count": 88,
   "id": "55589225",
   "metadata": {},
   "outputs": [
    {
     "data": {
      "image/png": "[encoded data removed]",
      "text/plain": [
       "<Figure size 800x600 with 1 Axes>"
      ]
     },
     "metadata": {},
     "output_type": "display_data"
    }
   ],
   "source": [
    "# ROC Curve \n",
    "from sklearn.metrics import roc_curve, roc_auc_score \n",
    "\n",
    "fpr, tpr, thresholds = roc_curve(y_test,y_test_pred_RF)\n",
    "auc = roc_auc_score (y_test, y_test_pred_RF)\n",
    "\n",
    "plt.figure(figsize=(8, 6))\n",
    "plt.plot(fpr, tpr, color='blue', lw=2, label=f'ROC curve (AUC = {auc:.2f})')\n",
    "plt.plot([0, 1], [0, 1], color='red', linestyle='--', label='Random classifier')\n",
    "plt.xlim([0.0, 1.0])\n",
    "plt.ylim([0.0, 1.05])\n",
    "plt.xlabel('False Positive Rate')\n",
    "plt.ylabel('True Positive Rate')\n",
    "plt.title('Receiver Operating Characteristic (ROC) Curve')\n",
    "plt.legend(loc='lower right')\n",
    "plt.show()"
   ]
  }
 ],
 "metadata": {
  "kernelspec": {
   "display_name": "Python 3",
   "language": "python",
   "name": "python3"
  },
  "language_info": {
   "codemirror_mode": {
    "name": "ipython",
    "version": 3
   },
   "file_extension": ".py",
   "mimetype": "text/x-python",
   "name": "python",
   "nbconvert_exporter": "python",
   "pygments_lexer": "ipython3",
   "version": "3.11.0"
  }
 },
 "nbformat": 4,
 "nbformat_minor": 5
}
